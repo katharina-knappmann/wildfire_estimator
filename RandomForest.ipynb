{
  "nbformat": 4,
  "nbformat_minor": 0,
  "metadata": {
    "colab": {
      "name": "RandomForest.ipynb",
      "provenance": [],
      "collapsed_sections": [],
      "include_colab_link": true
    },
    "kernelspec": {
      "display_name": "Python 3",
      "name": "python3"
    }
  },
  "cells": [
    {
      "cell_type": "markdown",
      "metadata": {
        "id": "view-in-github",
        "colab_type": "text"
      },
      "source": [
        "<a href=\"https://colab.research.google.com/github/katharina-knappmann/wildfire_challenge/blob/main/RandomForest.ipynb\" target=\"_parent\"><img src=\"https://colab.research.google.com/assets/colab-badge.svg\" alt=\"Open In Colab\"/></a>"
      ]
    },
    {
      "cell_type": "code",
      "metadata": {
        "id": "VmRSSfQi1WPT",
        "colab": {
          "base_uri": "https://localhost:8080/"
        },
        "outputId": "5579a7ac-8121-4bec-8318-334e9f1c3bc1"
      },
      "source": [
        "import os\n",
        "import numpy as np\n",
        "import pandas as pd\n",
        "import time\n",
        "import random\n",
        "\n",
        "from google.colab import drive\n",
        "from matplotlib import pyplot\n",
        "from collections import deque\n",
        "from sklearn import preprocessing\n",
        "from sklearn.preprocessing import MinMaxScaler\n",
        "\n",
        "drive.mount('/content/drive')\n",
        "os.chdir('/content/drive/My Drive/Wildfire_Challenge/Data')"
      ],
      "execution_count": 1,
      "outputs": [
        {
          "output_type": "stream",
          "text": [
            "Mounted at /content/drive\n"
          ],
          "name": "stdout"
        }
      ]
    },
    {
      "cell_type": "code",
      "metadata": {
        "id": "NkQmtGRF1WRg"
      },
      "source": [
        "df_all = pd.read_csv('Cleansed_Data.csv')\n",
        "forecasts_df = pd.read_csv('HistoricalWeatherForecasts.csv')\n",
        "\n",
        "df_all['Date'] = pd.to_datetime(df_all['Date'])\n",
        "forecasts_df['Date'] = pd.to_datetime(forecasts_df['Date'])\n",
        "\n",
        "df_all = df_all.drop(columns=['Mean_estimated_fire_brightness', 'Mean_estimated_fire_radiative_power'], inplace=False)"
      ],
      "execution_count": 2,
      "outputs": []
    },
    {
      "cell_type": "code",
      "metadata": {
        "id": "X-t1X3JQbley"
      },
      "source": [
        "df_all.replace(['NSW', 'NT', 'QL', 'VI', 'SA', 'TA', 'WA'], [1,2,3,4,5,6,7], inplace=True)\n",
        "\n",
        "first_col = df_all.pop('Estimated_fire_area')\n",
        "df_all.insert(0, 'Estimated_fire_area', first_col)"
      ],
      "execution_count": 4,
      "outputs": []
    },
    {
      "cell_type": "code",
      "metadata": {
        "id": "1S5avsWHbSDa"
      },
      "source": [
        "# cutting df so that only data where weather forecast was available is taken into account\n",
        "\n",
        "df = pd.DataFrame()\n",
        "\n",
        "for region in [1,2,3,4,5,6,7]:\n",
        "  df_temp = df_all[df_all['Region'] == region]\n",
        "  df_temp.set_index('Date', inplace=True)\n",
        "  df_temp = df_temp['2014-01-01' :'2021-01-31']\n",
        "\n",
        "  df = df.append(df_temp)\n",
        "\n",
        "dates = df[['Date']]\n",
        "df.drop(columns = ['Date'], inplace = True)#, 'Region'\n",
        "df.reset_index(inplace=True)"
      ],
      "execution_count": 6,
      "outputs": []
    },
    {
      "cell_type": "code",
      "metadata": {
        "id": "M8_PDET_1WlY"
      },
      "source": [
        "#SEQ_LEN = 60  # preceeding sequence\n",
        "#FUTURE_PERIOD_PREDICT = 14\n",
        "#RATIO_TO_PREDICT = \"QL\""
      ],
      "execution_count": 9,
      "outputs": []
    },
    {
      "cell_type": "code",
      "metadata": {
        "id": "YJSXMZZg1Wpm"
      },
      "source": [
        "## here, split away some slice of the future data from the main main_df\n",
        "\n",
        "times = sorted(main_df.index.values)\n",
        "last_5pct = sorted(main_df.index.values)[-int(0.05*len(times))]\n",
        "\n",
        "main_df = main_df.sample(n = main_df.shape[0])\n",
        "\n",
        "validation_main_df = main_df[(main_df.index >= last_5pct)]\n",
        "main_df = main_df[(main_df.index < last_5pct)]\n",
        "df.dropna(inplace=True)\n",
        "scaler = MinMaxScaler()\n",
        "for col in df:\n",
        "  df[[col]] = scaler.fit_transform(df[[col]])\n",
        "  validation_main_df[[col]] = scaler.fit_transform(validation_main_df[[col]])\n",
        "\n",
        "npmain = np.asarray(df)\n",
        "npvalmain = np.asarray(validation_main_df)\n",
        "\n",
        "train_x = npmain[:,1:]\n",
        "train_y = npmain[:,0:1].ravel()\n",
        "\n",
        "validation_x = npvalmain[:,1:]\n",
        "validation_y = npvalmain[:,0:1].ravel()\n",
        "\n",
        "train_x = scaler.fit_transform(train_x)"
      ],
      "execution_count": null,
      "outputs": []
    },
    {
      "cell_type": "code",
      "metadata": {
        "id": "wcAsuWRRe42Y",
        "colab": {
          "base_uri": "https://localhost:8080/"
        },
        "outputId": "6b2794d4-6b5d-4c99-da7b-f9ee7c82d2d0"
      },
      "source": [
        "# Import the model we are using\n",
        "from sklearn.ensemble import RandomForestRegressor # Instantiate model with 1000 decision trees\n",
        "rf = RandomForestRegressor(n_estimators = 500, random_state = 30)# Train the model on training data\n",
        "rf.fit(train_x, train_y)"
      ],
      "execution_count": null,
      "outputs": [
        {
          "output_type": "execute_result",
          "data": {
            "text/plain": [
              "RandomForestRegressor(bootstrap=True, ccp_alpha=0.0, criterion='mse',\n",
              "                      max_depth=None, max_features='auto', max_leaf_nodes=None,\n",
              "                      max_samples=None, min_impurity_decrease=0.0,\n",
              "                      min_impurity_split=None, min_samples_leaf=1,\n",
              "                      min_samples_split=2, min_weight_fraction_leaf=0.0,\n",
              "                      n_estimators=500, n_jobs=None, oob_score=False,\n",
              "                      random_state=30, verbose=0, warm_start=False)"
            ]
          },
          "metadata": {
            "tags": []
          },
          "execution_count": 36
        }
      ]
    },
    {
      "cell_type": "markdown",
      "metadata": {
        "id": "rupfuNf-vYUN"
      },
      "source": [
        "Preparation of \"to-predict\" data"
      ]
    },
    {
      "cell_type": "code",
      "metadata": {
        "id": "EyinRB-SvN9U"
      },
      "source": [
        "vegetation_columns = ['Vegetation_index_mean', 'Vegetation_index_max', 'Vegetation_index_min', 'Vegetation_index_std', 'Vegetation_index_variance']\n",
        "vegetation_influenced_columns = ['Shrubs', 'Herbaceous vegetation', 'Cultivated and managed vegetation/agriculture (cropland)', 'Herbaceous wetland', 'Closed forest, deciduous broad leaf', 'Closed forest, unknown', 'Open forest, deciduous broad leaf', 'Open forest, unknown definitions']\n",
        "other_landclass_columns = ['Urban / built up','Bare / sparse vegetation','Permanent water bodies','Closed forest, evergreen, broad leaf','Open forest, evergreen broad leaf','Open sea']\n",
        "\n",
        "forecasts_df = pd.read_csv('Cleansed_Forecasts.csv')\n",
        "landclass_df = pd.read_csv('LandClass.csv')\n",
        "vegetation_df = pd.read_csv('VegetationIndex.csv')\n",
        "soilwater_df = pd.read_csv('SoilwaterContent_Estimation.csv')\n",
        "february_forecasts = pd.read_csv('Februar_Forecast.csv', delimiter=';')\n",
        "\n",
        "february_forecasts['Date'] = pd.to_datetime(february_forecasts['Date'])\n",
        "soilwater_df['Date'] = pd.to_datetime(soilwater_df['Date'])\n",
        "vegetation_df['Date'] = pd.to_datetime(vegetation_df['Date'])\n",
        "forecasts_df['Date'] = pd.to_datetime(forecasts_df['Date'])\n",
        "\n",
        "february_forecasts.set_index('Date', inplace=True)\n",
        "\n",
        "df_all = pd.DataFrame()\n",
        "for region in ['NSW', 'NT', 'QL', 'VI', 'SA', 'TA', 'WA']:\n",
        "  df_temp = february_forecasts[february_forecasts['Region'] == region]\n",
        "  #df_temp = df_temp['2021-02-01':'2021-02-14']\n",
        "  df_temp.reset_index(inplace=True)\n",
        "\n",
        "  df_temp = df_temp.merge(vegetation_df, how='left', on=['Date', 'Region'])\n",
        "  df_temp = df_temp.merge(landclass_df, how='left', on=['Region'])\n",
        "\n",
        "  df_temp[vegetation_columns] = df_temp[vegetation_columns].fillna(method='ffill')\n",
        "\n",
        "  df_all = df_all.append(df_temp)\n",
        "\n",
        "for col in vegetation_influenced_columns:\n",
        "  df_all[col+'_inflame_risk'] = df_all[col] * (1-df_all.Vegetation_index_mean)\n",
        "  df_all = df_all.drop(columns = col)\n",
        "\n",
        "#df_all = df_all.merge(soilwater_df, how='inner', on=['Date', 'Region'])\n",
        "\n",
        "df_all = df_all.drop(columns = other_landclass_columns)\n",
        "\n",
        "#df_all = df_all.drop(columns = ['Date'], inplace = False)\n",
        "df_all.replace(['NSW', 'NT', 'QL', 'VI', 'SA', 'TA', 'WA'], [1,2,3,4,5,6,7], inplace=True)\n",
        "\n",
        "columns_titles = ['Region','Precipitation_Max','Precipitation_Mean','Precipitation_Min','Precipitation_Variance','RelativeHumidity_Max','RelativeHumidity_Mean','RelativeHumidity_Min','RelativeHumidity_Variance','SoilWaterContent_Max','SoilWaterContent_Mean','SoilWaterContent_Min','SoilWaterContent_Variance','SolarRadiation_Max','SolarRadiation_Mean','SolarRadiation_Min','SolarRadiation_Variance','Temperature_Max','Temperature_Mean','Temperature_Min','Temperature_Variance','WindSpeed_Max','WindSpeed_Mean','WindSpeed_Min','WindSpeed_Variance','Vegetation_index_mean','Vegetation_index_max','Vegetation_index_min','Vegetation_index_std','Vegetation_index_variance','Shrubs_inflame_risk','Herbaceous vegetation_inflame_risk','Cultivated and managed vegetation/agriculture (cropland)_inflame_risk','Herbaceous wetland_inflame_risk','Closed forest, deciduous broad leaf_inflame_risk','Closed forest, unknown_inflame_risk','Open forest, deciduous broad leaf_inflame_risk','Open forest, unknown definitions_inflame_risk','Month','Year']\n",
        "df_all=df_all.reindex(columns=columns_titles)\n",
        "df_all.dropna(inplace=True)\n",
        "\n",
        "scaler = MinMaxScaler()\n",
        "for col in df_all:#.columns.drop('Estimated_fire_area'):\n",
        "  df_all[[col]] = scaler.fit_transform(df_all[[col]])\n",
        "  #validation_main_df[[col]] = scaler.fit_transform(validation_main_df[[col]])\n",
        "\n",
        "df_all[\"Month\"] = 0.090909\n",
        "df_all[\"Year\"] = 0.857143\n",
        "x_data = np.asarray(df_all)"
      ],
      "execution_count": null,
      "outputs": []
    },
    {
      "cell_type": "code",
      "metadata": {
        "id": "zfm1LWQae45U"
      },
      "source": [
        "# Use the forest's predict method on the test data\n",
        "predictions = rf.predict(x_data)# Calculate the absolute errors\n",
        "#errors = abs(predictions - validation_y)# Print out the mean absolute error (mae)\n",
        "#print('Mean Absolute Error:', round(np.mean(errors), 2), 'degrees.')"
      ],
      "execution_count": null,
      "outputs": []
    },
    {
      "cell_type": "code",
      "metadata": {
        "id": "vg56kwiY5SPU"
      },
      "source": [
        "file = open(\"file1.txt\", \"w+\") \n",
        "# Saving the array in a text file \n",
        "content = str(predictions) \n",
        "file.write(content) \n",
        "file.close() "
      ],
      "execution_count": null,
      "outputs": []
    },
    {
      "cell_type": "code",
      "metadata": {
        "id": "yUZQkn_LCO2Q"
      },
      "source": [
        "from matplotlib import pyplot\n",
        "\n",
        "#pyplot.plot(errors, label = 'Expected')\n",
        "pyplot.plot(validation_y[:100], label = 'Expected')\n",
        "pyplot.plot(predictions[:100], label = 'Predicted')\n",
        "pyplot.legend()\n",
        "pyplot.show()"
      ],
      "execution_count": null,
      "outputs": []
    },
    {
      "cell_type": "code",
      "metadata": {
        "id": "WiG8MtuNe4-9"
      },
      "source": [
        "# Import tools needed for visualization\n",
        "from sklearn.tree import export_graphviz\n",
        "import pydot# Pull out one tree from the forest\n",
        "#tree = rf.estimators_[5]# Import tools needed for visualization\n",
        "from sklearn.tree import export_graphviz\n",
        "import pydot# Pull out one tree from the forest\n",
        "\n",
        "#tree = rf.estimators_[5]# Export the image to a dot file\n",
        "#export_graphviz(tree, out_file = 'tree.dot', feature_names = feature_names, rounded = True, precision = 1)# Use dot file to create a graph\n",
        "#(graph, ) = pydot.graph_from_dot_file('tree.dot')# Write graph to a png file\n",
        "#graph.write_png('tree.png')"
      ],
      "execution_count": null,
      "outputs": []
    },
    {
      "cell_type": "code",
      "metadata": {
        "colab": {
          "base_uri": "https://localhost:8080/"
        },
        "id": "DU3q704ne5Cv",
        "outputId": "1eb80284-ef6a-4a48-b8a2-028a0032515c"
      },
      "source": [
        "features = main_df.drop(columns=['Estimated_fire_area'], inplace=True)\n",
        "feature_names = main_df.columns\n",
        "\n",
        "# Get numerical feature importances\n",
        "importances = list(rf.feature_importances_)# List of tuples with variable and importance\n",
        "feature_importances = [(feature, round(importance, 2)) for feature, importance in zip(feature_names, importances)]# Sort the feature importances by most important first\n",
        "feature_importances = sorted(feature_importances, key = lambda x: x[1], reverse = True)# Print out the feature and importances \n",
        "[print('Variable: {:20} Importance: {}'.format(*pair)) for pair in feature_importances];"
      ],
      "execution_count": null,
      "outputs": [
        {
          "output_type": "stream",
          "text": [
            "Variable: Open forest, deciduous broad leaf_inflame_risk Importance: 0.28\n",
            "Variable: SoilWaterContent_Max Importance: 0.13\n",
            "Variable: SolarRadiation_Mean  Importance: 0.06\n",
            "Variable: Year                 Importance: 0.05\n",
            "Variable: RelativeHumidity_Mean Importance: 0.04\n",
            "Variable: SoilWaterContent_Variance Importance: 0.04\n",
            "Variable: Vegetation_index_mean Importance: 0.03\n",
            "Variable: Vegetation_index_std Importance: 0.03\n",
            "Variable: Vegetation_index_variance Importance: 0.03\n",
            "Variable: Month                Importance: 0.03\n",
            "Variable: SoilWaterContent_Mean Importance: 0.02\n",
            "Variable: SolarRadiation_Max   Importance: 0.02\n",
            "Variable: Vegetation_index_max Importance: 0.02\n",
            "Variable: Precipitation_Max    Importance: 0.01\n",
            "Variable: Precipitation_Mean   Importance: 0.01\n",
            "Variable: RelativeHumidity_Max Importance: 0.01\n",
            "Variable: RelativeHumidity_Min Importance: 0.01\n",
            "Variable: RelativeHumidity_Variance Importance: 0.01\n",
            "Variable: SolarRadiation_Min   Importance: 0.01\n",
            "Variable: SolarRadiation_Variance Importance: 0.01\n",
            "Variable: Temperature_Max      Importance: 0.01\n",
            "Variable: Temperature_Mean     Importance: 0.01\n",
            "Variable: Temperature_Min      Importance: 0.01\n",
            "Variable: Temperature_Variance Importance: 0.01\n",
            "Variable: WindSpeed_Max        Importance: 0.01\n",
            "Variable: WindSpeed_Mean       Importance: 0.01\n",
            "Variable: WindSpeed_Min        Importance: 0.01\n",
            "Variable: WindSpeed_Variance   Importance: 0.01\n",
            "Variable: Shrubs_inflame_risk  Importance: 0.01\n",
            "Variable: Herbaceous vegetation_inflame_risk Importance: 0.01\n",
            "Variable: Cultivated and managed vegetation/agriculture (cropland)_inflame_risk Importance: 0.01\n",
            "Variable: Closed forest, deciduous broad leaf_inflame_risk Importance: 0.01\n",
            "Variable: Closed forest, unknown_inflame_risk Importance: 0.01\n",
            "Variable: Open forest, unknown definitions_inflame_risk Importance: 0.01\n",
            "Variable: Region               Importance: 0.0\n",
            "Variable: Precipitation_Min    Importance: 0.0\n",
            "Variable: Precipitation_Variance Importance: 0.0\n",
            "Variable: SoilWaterContent_Min Importance: 0.0\n",
            "Variable: Vegetation_index_min Importance: 0.0\n",
            "Variable: Herbaceous wetland_inflame_risk Importance: 0.0\n"
          ],
          "name": "stdout"
        }
      ]
    }
  ]
}