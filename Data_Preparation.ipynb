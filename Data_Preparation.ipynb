{
  "nbformat": 4,
  "nbformat_minor": 0,
  "metadata": {
    "kernelspec": {
      "name": "python3",
      "display_name": "Python 3"
    },
    "colab": {
      "name": "Data_Preparation.ipynb",
      "provenance": [],
      "collapsed_sections": [
        "iArdZ_0C2sMg"
      ],
      "include_colab_link": true
    }
  },
  "cells": [
    {
      "cell_type": "markdown",
      "metadata": {
        "id": "view-in-github",
        "colab_type": "text"
      },
      "source": [
        "<a href=\"https://colab.research.google.com/github/knattarina/wildfire_challenge/blob/main/Data_Preparation.ipynb\" target=\"_parent\"><img src=\"https://colab.research.google.com/assets/colab-badge.svg\" alt=\"Open In Colab\"/></a>"
      ]
    },
    {
      "cell_type": "markdown",
      "metadata": {
        "id": "D1aQFcKjeM0h"
      },
      "source": [
        "# **Data Preparation**\r\n",
        "*This notebook contains the data preparation of the data provided by the [IBM Call for Code Wildfire Challenge](https://community.ibm.com/community/user/datascience/blogs/susan-malaika/2020/11/10/call-for-code-spot-challenge-for-wildfires). The content is available [on GitHub](https://github.com/knattarina/wildfire_challenge).*\r\n",
        "\r\n",
        "\r\n",
        "*   loading csv data (wildfires, weather, forecasts, landclass and vegetation index)\r\n",
        "*   reformatting weather data one line per date\r\n",
        "*   adding fix data to landclass\r\n",
        "*   handle missing values in time series per region\r\n",
        "*   handling outliers\r\n",
        "*   merging data\r\n",
        "*   generating new indicators\r\n",
        "\r\n",
        "\r\n",
        "\r\n",
        "\r\n"
      ]
    },
    {
      "cell_type": "markdown",
      "metadata": {
        "id": "iArdZ_0C2sMg"
      },
      "source": [
        "# IBM Watson related Code"
      ]
    },
    {
      "cell_type": "code",
      "metadata": {
        "id": "mvpoNij80zTK"
      },
      "source": [
        "#from project_lib import Project\r\n",
        "#from pyspark.sql import SparkSession\r\n",
        "\r\n",
        "#project = Project(sc,\"ff75f9c0-4f85-495d-bbc1-6305f6b1dbb8\", \"p-12f1b4bbd0ab3b00eacd4ce1201f20ce039b72ec\")\r\n",
        "#spark = SparkSession.builder.getOrCreate()\r\n",
        "def get_df_watson(file_name):\r\n",
        "    file = project.get_file(file_name)\r\n",
        "    file.seek(0)\r\n",
        "    return pd.read_csv(file)\r\n",
        "\r\n",
        "def save_files_watson():\r\n",
        "  project.save_data(\"Cleansed_Data.csv\", aggr_df.to_csv(index=False), overwrite=True)\r\n",
        "  project.save_data(\"LandClass.csv\", landclass_df.to_csv(index=False), overwrite=True)\r\n",
        "  project.save_data(\"Cleansed_Forecasts.csv\", forecasts_df.to_csv(index=False), overwrite=True)"
      ],
      "execution_count": 135,
      "outputs": []
    },
    {
      "cell_type": "markdown",
      "metadata": {
        "id": "HVVt0XCw2xv6"
      },
      "source": [
        "# Google Colab"
      ]
    },
    {
      "cell_type": "code",
      "metadata": {
        "id": "NIZbDkz-dC6J",
        "colab": {
          "base_uri": "https://localhost:8080/"
        },
        "outputId": "f52ea6e1-49bf-41c2-b08a-9ebc091d8bd3"
      },
      "source": [
        "import sys\n",
        "import os\n",
        "import datetime\n",
        "import numpy as np\n",
        "import pandas as pd\n",
        "import seaborn as sns\n",
        "import scipy.stats\n",
        "\n",
        "from google.colab import drive\n",
        "\n",
        "drive.mount('/content/drive')\n",
        "os.chdir('/content/drive/My Drive/Wildfire_Challenge/Data')"
      ],
      "execution_count": 136,
      "outputs": [
        {
          "output_type": "stream",
          "text": [
            "Drive already mounted at /content/drive; to attempt to forcibly remount, call drive.mount(\"/content/drive\", force_remount=True).\n"
          ],
          "name": "stdout"
        }
      ]
    },
    {
      "cell_type": "code",
      "metadata": {
        "id": "d8oqlgT1fPW4"
      },
      "source": [
        "wildfires_df = pd.read_csv('Historical_Wildfires.csv')\r\n",
        "weather_df = pd.read_csv('HistoricalWeather.csv')\r\n",
        "forecasts_df = pd.read_csv('HistoricalWeatherForecasts.csv')\r\n",
        "landclass_df = pd.read_csv('LandClass.csv')\r\n",
        "vegetation_df = pd.read_csv('VegetationIndex.csv')\r\n",
        "\r\n",
        "forecasts_df['Date'] = pd.to_datetime(forecasts_df['Date'])\r\n",
        "wildfires_df['Date'] = pd.to_datetime(wildfires_df['Date'])\r\n",
        "weather_df['Date'] = pd.to_datetime(weather_df['Date'])\r\n",
        "vegetation_df['Date'] = pd.to_datetime(vegetation_df['Date'])"
      ],
      "execution_count": 137,
      "outputs": []
    },
    {
      "cell_type": "code",
      "metadata": {
        "id": "9LCnGUNKdC6e"
      },
      "source": [
        "##### ADD FIX DATA TO LANDCLASS #####\n",
        "temp_df = pd.DataFrame.drop_duplicates(weather_df[['Region','count()[unit: km^2]']])\n",
        "landclass_df = pd.merge(landclass_df, temp_df)\n",
        "\n",
        "##### REPLACE ZEROES WITH NAN #####\n",
        "#wildfires_df = wildfires_df.mask(wildfires_df==0)\n",
        "wildfires_df = wildfires_df.drop(columns = ['Replaced', 'Count'])"
      ],
      "execution_count": 138,
      "outputs": []
    },
    {
      "cell_type": "markdown",
      "metadata": {
        "id": "ZiSYMbr10_kI"
      },
      "source": [
        "*    Reformatting data to one line per date and region"
      ]
    },
    {
      "cell_type": "code",
      "metadata": {
        "id": "uwshLZNjdC6g"
      },
      "source": [
        "def reformat_weather_data(df):\n",
        "    df = df.rename(columns={\"count()[unit: km^2]\": \"Area\", \"min()\": \"Min\", \"max()\": \"Max\", \"mean()\": \"Mean\", \"variance()\": \"Variance\"})\n",
        "\n",
        "    # Reformat the data\n",
        "    df_pivot = df.pivot_table(values=['Min','Max','Mean','Variance'], index=['Date','Region'], columns=['Parameter'])\n",
        "\n",
        "    # Reset dataframe index\n",
        "    df_pivot.reset_index(inplace=True)\n",
        "\n",
        "    # Renaming Column names\n",
        "    df_pivot.columns = [col[0] if not(col[1]) else '{1}_{0}'.format(*col) for col in df_pivot.columns.values]\n",
        "\n",
        "    # Rearranging Data and column\n",
        "    params = df_pivot.columns.tolist()[3:]\n",
        "    params.sort()\n",
        "    \n",
        "    return df_pivot[df_pivot.columns.tolist()[:3] + params].copy()\n",
        "\n",
        "weather_df = reformat_weather_data(weather_df)\n",
        "forecasts_df = reformat_weather_data(forecasts_df)"
      ],
      "execution_count": 139,
      "outputs": []
    },
    {
      "cell_type": "markdown",
      "metadata": {
        "id": "MNYYq4og1Vwy"
      },
      "source": [
        "*     Handling missing values with interpolation of time series"
      ]
    },
    {
      "cell_type": "code",
      "metadata": {
        "id": "NoUuNJ5W9PGf"
      },
      "source": [
        "def fill_frames(df, columns):\r\n",
        "    df_all = pd.DataFrame()\r\n",
        "    for region in landclass_df.Region:\r\n",
        "      df_temp = df[df['Region'] == region]\r\n",
        "      df_temp = df_temp.resample('1D', on='Date').first().drop('Date', 1).reset_index()\r\n",
        "      df_temp[['Region']] = df_temp[['Region']].fillna(value = region)\r\n",
        "      df_temp[columns]=df_temp[columns].interpolate(method='linear', direction = 'backward')\r\n",
        "      df_temp = df_temp.fillna(method='ffill')\r\n",
        "      df_temp = df_temp.fillna(method='bfill')\r\n",
        "      df_all = df_all.append(df_temp)\r\n",
        "      assert (df_all.isna().sum().all() == 0), \"Still Nan Values remain!\"\r\n",
        "    return df_all\r\n",
        "\r\n",
        "forecasts_df.drop_duplicates(inplace = True)\r\n",
        "forecasts_columns = ['Precipitation_Max', 'Precipitation_Mean', 'Precipitation_Min', 'Precipitation_Variance', 'RelativeHumidity_Max', 'RelativeHumidity_Mean', 'RelativeHumidity_Min', 'RelativeHumidity_Variance', 'SolarRadiation_Max', 'SolarRadiation_Mean', 'SolarRadiation_Min', 'SolarRadiation_Variance', 'Temperature_Max', 'Temperature_Mean', 'Temperature_Min', 'Temperature_Variance', 'WindSpeed_Max', 'WindSpeed_Mean', 'WindSpeed_Min', 'WindSpeed_Variance']\r\n",
        "forecasts_df = fill_frames(forecasts_df, forecasts_columns)\r\n",
        "\r\n",
        "veg_columns = ['Vegetation_index_mean', 'Vegetation_index_max', 'Vegetation_index_min', 'Vegetation_index_std', 'Vegetation_index_variance']\r\n",
        "vegetation_df = fill_frames(vegetation_df, veg_columns)"
      ],
      "execution_count": 140,
      "outputs": []
    },
    {
      "cell_type": "markdown",
      "metadata": {
        "id": "b7QSPLn11pDz"
      },
      "source": [
        "*     Merging data"
      ]
    },
    {
      "cell_type": "code",
      "metadata": {
        "id": "k9ZVVLlRUxMO"
      },
      "source": [
        "aggr_df = wildfires_df.merge(weather_df, how='left', on=['Date', 'Region'])\r\n",
        "aggr_df = aggr_df.merge(vegetation_df, how='left', on=['Date', 'Region'])\r\n",
        "aggr_df = aggr_df.merge(landclass_df, how='left', on=['Region'])\r\n",
        "\r\n",
        "aggr_df_unfilled = aggr_df.fillna(method='bfill', inplace = False)\r\n",
        "aggr_df_unfilled = aggr_df_unfilled.fillna(method='ffill')\r\n",
        "\r\n",
        "aggr_df = aggr_df.set_index(['Date','Region']).fillna(forecasts_df.set_index(['Date','Region'])).reset_index() #filling missing weather data with forecast data\r\n",
        "aggr_columns = ['Estimated_fire_area','Mean_estimated_fire_brightness','Mean_estimated_fire_radiative_power','Mean_confidence','Precipitation_Max','Precipitation_Mean','Precipitation_Min','Precipitation_Variance','RelativeHumidity_Max','RelativeHumidity_Mean','RelativeHumidity_Min','RelativeHumidity_Variance','SoilWaterContent_Max','SoilWaterContent_Mean','SoilWaterContent_Min','SoilWaterContent_Variance','SolarRadiation_Max','SolarRadiation_Mean','SolarRadiation_Min','SolarRadiation_Variance','Temperature_Max','Temperature_Mean','Temperature_Min','Temperature_Variance', 'WindSpeed_Max','WindSpeed_Mean','WindSpeed_Min','WindSpeed_Variance', 'Vegetation_index_mean', 'Vegetation_index_max', 'Vegetation_index_min', 'Vegetation_index_std', 'Vegetation_index_variance']\r\n",
        "aggr_df = fill_frames(aggr_df, aggr_columns)"
      ],
      "execution_count": 141,
      "outputs": []
    },
    {
      "cell_type": "markdown",
      "metadata": {
        "id": "hlCsQ66aGeu6"
      },
      "source": [
        "*     handling outliers"
      ]
    },
    {
      "cell_type": "code",
      "metadata": {
        "id": "4tzrWBYbDeWU"
      },
      "source": [
        "for col in aggr_df.columns:\r\n",
        "  if col in ['Estimated_fire_area','Mean_estimated_fire_radioative_power','Preciptation_Min','Preciptation_Variance','Relative_Humidity_Variance','SoilWaterContent_Min','SolarRadiation_Variance','Temperature_Variance','WindSpeed_Max','WindSpeed_Mean','WindSpeed_Variance']:\r\n",
        "    if col in ['SoilWaterContent_Min', 'Preciptation_Max', 'Preciptation_Mean', 'Preciptation_Min', 'Preciptation_Variance']:\r\n",
        "      scipy.stats.mstats.winsorize(aggr_df[col], limits = 0.10, inplace = True)\r\n",
        "    else: \r\n",
        "      scipy.stats.mstats.winsorize(aggr_df[col], limits = 0.05, inplace = True)\r\n",
        "    #g = sns.displot(data=aggr_df.iloc[:, :-16], x=col, hue=\"Region\", kind=\"kde\")"
      ],
      "execution_count": 142,
      "outputs": []
    },
    {
      "cell_type": "markdown",
      "metadata": {
        "id": "lX01Lk6s4PXm"
      },
      "source": [
        "*     adding new ratios"
      ]
    },
    {
      "cell_type": "code",
      "metadata": {
        "id": "yLfWZROzZcw6"
      },
      "source": [
        "# the lower the vegetation index, the drier is the vegetation\r\n",
        "vegetation_influenced_columns = ['Shrubs', 'Herbaceous vegetation', 'Cultivated and managed vegetation/agriculture (cropland)', 'Herbaceous wetland', 'Closed forest, deciduous broad leaf', 'Closed forest, unknown', 'Open forest, deciduous broad leaf', 'Open forest, unknown definitions']\r\n",
        "other_landclass_columns = ['Urban / built up','Bare / sparse vegetation','Permanent water bodies','Closed forest, evergreen, broad leaf','Open forest, evergreen broad leaf','Open sea','count()[unit: km^2]']\r\n",
        "\r\n",
        "for col in vegetation_influenced_columns:\r\n",
        "  aggr_df[col+'_inflame_risk'] = aggr_df[col] * (1-aggr_df.Vegetation_index_mean)\r\n",
        "  aggr_df = aggr_df.drop(columns = col)\r\n",
        "\r\n",
        "aggr_df = aggr_df.drop(columns = other_landclass_columns)"
      ],
      "execution_count": 143,
      "outputs": []
    },
    {
      "cell_type": "code",
      "metadata": {
        "id": "sywZU6_N2-s8"
      },
      "source": [
        "def segregate_date(df):\r\n",
        "    #df[\"Day\"] = df[\"Date\"].dt.day\r\n",
        "    df[\"Month\"] = df[\"Date\"].dt.month\r\n",
        "    df[\"Year\"] = df[\"Date\"].dt.year\r\n",
        "    return df\r\n",
        "\r\n",
        "aggr_df = segregate_date(aggr_df)\r\n",
        "forecasts_df = segregate_date(forecasts_df)"
      ],
      "execution_count": 144,
      "outputs": []
    },
    {
      "cell_type": "code",
      "metadata": {
        "colab": {
          "base_uri": "https://localhost:8080/",
          "height": 261
        },
        "id": "hIz1xuJCntgN",
        "outputId": "817a47a3-aac2-4b97-9c0a-a8227711781b"
      },
      "source": [
        "aggr_df.head()"
      ],
      "execution_count": 145,
      "outputs": [
        {
          "output_type": "execute_result",
          "data": {
            "text/html": [
              "<div>\n",
              "<style scoped>\n",
              "    .dataframe tbody tr th:only-of-type {\n",
              "        vertical-align: middle;\n",
              "    }\n",
              "\n",
              "    .dataframe tbody tr th {\n",
              "        vertical-align: top;\n",
              "    }\n",
              "\n",
              "    .dataframe thead th {\n",
              "        text-align: right;\n",
              "    }\n",
              "</style>\n",
              "<table border=\"1\" class=\"dataframe\">\n",
              "  <thead>\n",
              "    <tr style=\"text-align: right;\">\n",
              "      <th></th>\n",
              "      <th>Date</th>\n",
              "      <th>Region</th>\n",
              "      <th>Estimated_fire_area</th>\n",
              "      <th>Mean_estimated_fire_brightness</th>\n",
              "      <th>Mean_estimated_fire_radiative_power</th>\n",
              "      <th>Mean_confidence</th>\n",
              "      <th>Std_confidence</th>\n",
              "      <th>Var_confidence</th>\n",
              "      <th>Precipitation_Max</th>\n",
              "      <th>Precipitation_Mean</th>\n",
              "      <th>Precipitation_Min</th>\n",
              "      <th>Precipitation_Variance</th>\n",
              "      <th>RelativeHumidity_Max</th>\n",
              "      <th>RelativeHumidity_Mean</th>\n",
              "      <th>RelativeHumidity_Min</th>\n",
              "      <th>RelativeHumidity_Variance</th>\n",
              "      <th>SoilWaterContent_Max</th>\n",
              "      <th>SoilWaterContent_Mean</th>\n",
              "      <th>SoilWaterContent_Min</th>\n",
              "      <th>SoilWaterContent_Variance</th>\n",
              "      <th>SolarRadiation_Max</th>\n",
              "      <th>SolarRadiation_Mean</th>\n",
              "      <th>SolarRadiation_Min</th>\n",
              "      <th>SolarRadiation_Variance</th>\n",
              "      <th>Temperature_Max</th>\n",
              "      <th>Temperature_Mean</th>\n",
              "      <th>Temperature_Min</th>\n",
              "      <th>Temperature_Variance</th>\n",
              "      <th>WindSpeed_Max</th>\n",
              "      <th>WindSpeed_Mean</th>\n",
              "      <th>WindSpeed_Min</th>\n",
              "      <th>WindSpeed_Variance</th>\n",
              "      <th>Vegetation_index_mean</th>\n",
              "      <th>Vegetation_index_max</th>\n",
              "      <th>Vegetation_index_min</th>\n",
              "      <th>Vegetation_index_std</th>\n",
              "      <th>Vegetation_index_variance</th>\n",
              "      <th>Shrubs_inflame_risk</th>\n",
              "      <th>Herbaceous vegetation_inflame_risk</th>\n",
              "      <th>Cultivated and managed vegetation/agriculture (cropland)_inflame_risk</th>\n",
              "      <th>Herbaceous wetland_inflame_risk</th>\n",
              "      <th>Closed forest, deciduous broad leaf_inflame_risk</th>\n",
              "      <th>Closed forest, unknown_inflame_risk</th>\n",
              "      <th>Open forest, deciduous broad leaf_inflame_risk</th>\n",
              "      <th>Open forest, unknown definitions_inflame_risk</th>\n",
              "      <th>Month</th>\n",
              "      <th>Year</th>\n",
              "    </tr>\n",
              "  </thead>\n",
              "  <tbody>\n",
              "    <tr>\n",
              "      <th>0</th>\n",
              "      <td>2005-01-04</td>\n",
              "      <td>NSW</td>\n",
              "      <td>8.68000</td>\n",
              "      <td>312.266667</td>\n",
              "      <td>42.400000</td>\n",
              "      <td>78.666667</td>\n",
              "      <td>2.886751</td>\n",
              "      <td>8.333333</td>\n",
              "      <td>22.842566</td>\n",
              "      <td>2.808620</td>\n",
              "      <td>0.0</td>\n",
              "      <td>17.383363</td>\n",
              "      <td>90.332771</td>\n",
              "      <td>57.095628</td>\n",
              "      <td>31.279930</td>\n",
              "      <td>267.158378</td>\n",
              "      <td>0.444927</td>\n",
              "      <td>0.214293</td>\n",
              "      <td>0.003026</td>\n",
              "      <td>0.009965</td>\n",
              "      <td>33.214062</td>\n",
              "      <td>22.617291</td>\n",
              "      <td>7.576938</td>\n",
              "      <td>30.447041</td>\n",
              "      <td>28.945488</td>\n",
              "      <td>23.055527</td>\n",
              "      <td>12.495799</td>\n",
              "      <td>9.455474</td>\n",
              "      <td>7.364222</td>\n",
              "      <td>4.841764</td>\n",
              "      <td>1.401951</td>\n",
              "      <td>1.494301</td>\n",
              "      <td>0.349996</td>\n",
              "      <td>0.995264</td>\n",
              "      <td>-0.2</td>\n",
              "      <td>0.205230</td>\n",
              "      <td>0.042121</td>\n",
              "      <td>4.030027</td>\n",
              "      <td>28.340191</td>\n",
              "      <td>8.450057</td>\n",
              "      <td>0.065000</td>\n",
              "      <td>4.420030</td>\n",
              "      <td>0.195001</td>\n",
              "      <td>2.405016</td>\n",
              "      <td>6.695045</td>\n",
              "      <td>1</td>\n",
              "      <td>2005</td>\n",
              "    </tr>\n",
              "    <tr>\n",
              "      <th>1</th>\n",
              "      <td>2005-01-05</td>\n",
              "      <td>NSW</td>\n",
              "      <td>16.61125</td>\n",
              "      <td>322.475000</td>\n",
              "      <td>62.362500</td>\n",
              "      <td>85.500000</td>\n",
              "      <td>8.088793</td>\n",
              "      <td>65.428571</td>\n",
              "      <td>7.657155</td>\n",
              "      <td>0.157935</td>\n",
              "      <td>0.0</td>\n",
              "      <td>0.273471</td>\n",
              "      <td>88.623436</td>\n",
              "      <td>47.170735</td>\n",
              "      <td>24.466665</td>\n",
              "      <td>195.639724</td>\n",
              "      <td>0.442955</td>\n",
              "      <td>0.203951</td>\n",
              "      <td>0.003026</td>\n",
              "      <td>0.009483</td>\n",
              "      <td>33.554867</td>\n",
              "      <td>28.076835</td>\n",
              "      <td>14.087289</td>\n",
              "      <td>29.763055</td>\n",
              "      <td>29.510120</td>\n",
              "      <td>22.425765</td>\n",
              "      <td>9.611800</td>\n",
              "      <td>13.352380</td>\n",
              "      <td>7.091141</td>\n",
              "      <td>4.014080</td>\n",
              "      <td>1.011328</td>\n",
              "      <td>1.043316</td>\n",
              "      <td>0.350260</td>\n",
              "      <td>0.994619</td>\n",
              "      <td>-0.2</td>\n",
              "      <td>0.205353</td>\n",
              "      <td>0.042172</td>\n",
              "      <td>4.028387</td>\n",
              "      <td>28.328657</td>\n",
              "      <td>8.446618</td>\n",
              "      <td>0.064974</td>\n",
              "      <td>4.418231</td>\n",
              "      <td>0.194922</td>\n",
              "      <td>2.404037</td>\n",
              "      <td>6.692320</td>\n",
              "      <td>1</td>\n",
              "      <td>2005</td>\n",
              "    </tr>\n",
              "    <tr>\n",
              "      <th>2</th>\n",
              "      <td>2005-01-06</td>\n",
              "      <td>NSW</td>\n",
              "      <td>5.52000</td>\n",
              "      <td>325.266667</td>\n",
              "      <td>38.400000</td>\n",
              "      <td>78.333333</td>\n",
              "      <td>3.214550</td>\n",
              "      <td>10.333333</td>\n",
              "      <td>27.616505</td>\n",
              "      <td>0.434833</td>\n",
              "      <td>0.0</td>\n",
              "      <td>4.634465</td>\n",
              "      <td>92.850960</td>\n",
              "      <td>39.874638</td>\n",
              "      <td>21.705952</td>\n",
              "      <td>213.300558</td>\n",
              "      <td>0.431879</td>\n",
              "      <td>0.193668</td>\n",
              "      <td>0.003026</td>\n",
              "      <td>0.008750</td>\n",
              "      <td>34.075787</td>\n",
              "      <td>30.561703</td>\n",
              "      <td>12.310518</td>\n",
              "      <td>22.667707</td>\n",
              "      <td>26.982698</td>\n",
              "      <td>20.621405</td>\n",
              "      <td>9.024039</td>\n",
              "      <td>11.764178</td>\n",
              "      <td>9.905821</td>\n",
              "      <td>4.477879</td>\n",
              "      <td>0.930842</td>\n",
              "      <td>1.953685</td>\n",
              "      <td>0.350525</td>\n",
              "      <td>0.993974</td>\n",
              "      <td>-0.2</td>\n",
              "      <td>0.205476</td>\n",
              "      <td>0.042222</td>\n",
              "      <td>4.026747</td>\n",
              "      <td>28.317123</td>\n",
              "      <td>8.443179</td>\n",
              "      <td>0.064948</td>\n",
              "      <td>4.416432</td>\n",
              "      <td>0.194843</td>\n",
              "      <td>2.403059</td>\n",
              "      <td>6.689596</td>\n",
              "      <td>1</td>\n",
              "      <td>2005</td>\n",
              "    </tr>\n",
              "    <tr>\n",
              "      <th>3</th>\n",
              "      <td>2005-01-07</td>\n",
              "      <td>NSW</td>\n",
              "      <td>6.26400</td>\n",
              "      <td>313.870000</td>\n",
              "      <td>33.800000</td>\n",
              "      <td>92.200000</td>\n",
              "      <td>7.529940</td>\n",
              "      <td>56.700000</td>\n",
              "      <td>3.839235</td>\n",
              "      <td>0.064224</td>\n",
              "      <td>0.0</td>\n",
              "      <td>0.038927</td>\n",
              "      <td>79.103134</td>\n",
              "      <td>39.279410</td>\n",
              "      <td>16.215517</td>\n",
              "      <td>245.624576</td>\n",
              "      <td>0.418513</td>\n",
              "      <td>0.183778</td>\n",
              "      <td>0.003026</td>\n",
              "      <td>0.007799</td>\n",
              "      <td>34.019218</td>\n",
              "      <td>32.143718</td>\n",
              "      <td>16.044561</td>\n",
              "      <td>6.949267</td>\n",
              "      <td>24.752069</td>\n",
              "      <td>19.632722</td>\n",
              "      <td>8.691216</td>\n",
              "      <td>7.940373</td>\n",
              "      <td>10.446799</td>\n",
              "      <td>4.017578</td>\n",
              "      <td>1.601724</td>\n",
              "      <td>1.102751</td>\n",
              "      <td>0.350789</td>\n",
              "      <td>0.993329</td>\n",
              "      <td>-0.2</td>\n",
              "      <td>0.205599</td>\n",
              "      <td>0.042273</td>\n",
              "      <td>4.025107</td>\n",
              "      <td>28.305589</td>\n",
              "      <td>8.439740</td>\n",
              "      <td>0.064921</td>\n",
              "      <td>4.414633</td>\n",
              "      <td>0.194763</td>\n",
              "      <td>2.402080</td>\n",
              "      <td>6.686871</td>\n",
              "      <td>1</td>\n",
              "      <td>2005</td>\n",
              "    </tr>\n",
              "    <tr>\n",
              "      <th>4</th>\n",
              "      <td>2005-01-08</td>\n",
              "      <td>NSW</td>\n",
              "      <td>5.40000</td>\n",
              "      <td>337.383333</td>\n",
              "      <td>122.533333</td>\n",
              "      <td>91.000000</td>\n",
              "      <td>7.937254</td>\n",
              "      <td>63.000000</td>\n",
              "      <td>2.866673</td>\n",
              "      <td>0.203352</td>\n",
              "      <td>0.0</td>\n",
              "      <td>0.236269</td>\n",
              "      <td>83.001541</td>\n",
              "      <td>42.400824</td>\n",
              "      <td>14.008522</td>\n",
              "      <td>342.996833</td>\n",
              "      <td>0.413370</td>\n",
              "      <td>0.175935</td>\n",
              "      <td>0.003026</td>\n",
              "      <td>0.007482</td>\n",
              "      <td>33.265091</td>\n",
              "      <td>29.347715</td>\n",
              "      <td>15.209880</td>\n",
              "      <td>27.822830</td>\n",
              "      <td>26.472469</td>\n",
              "      <td>21.477315</td>\n",
              "      <td>10.821342</td>\n",
              "      <td>12.063971</td>\n",
              "      <td>6.671862</td>\n",
              "      <td>3.884550</td>\n",
              "      <td>1.167861</td>\n",
              "      <td>0.774612</td>\n",
              "      <td>0.351054</td>\n",
              "      <td>0.992684</td>\n",
              "      <td>-0.2</td>\n",
              "      <td>0.205722</td>\n",
              "      <td>0.042324</td>\n",
              "      <td>4.023467</td>\n",
              "      <td>28.294055</td>\n",
              "      <td>8.436301</td>\n",
              "      <td>0.064895</td>\n",
              "      <td>4.412834</td>\n",
              "      <td>0.194684</td>\n",
              "      <td>2.401101</td>\n",
              "      <td>6.684146</td>\n",
              "      <td>1</td>\n",
              "      <td>2005</td>\n",
              "    </tr>\n",
              "  </tbody>\n",
              "</table>\n",
              "</div>"
            ],
            "text/plain": [
              "        Date Region  ...  Month  Year\n",
              "0 2005-01-04    NSW  ...      1  2005\n",
              "1 2005-01-05    NSW  ...      1  2005\n",
              "2 2005-01-06    NSW  ...      1  2005\n",
              "3 2005-01-07    NSW  ...      1  2005\n",
              "4 2005-01-08    NSW  ...      1  2005\n",
              "\n",
              "[5 rows x 47 columns]"
            ]
          },
          "metadata": {
            "tags": []
          },
          "execution_count": 145
        }
      ]
    },
    {
      "cell_type": "markdown",
      "metadata": {
        "id": "lq56q2KX2G6a"
      },
      "source": [
        "*     Store preprocessed data to .csv-Files"
      ]
    },
    {
      "cell_type": "code",
      "metadata": {
        "id": "8x4_2aqEdC6n"
      },
      "source": [
        "aggr_df_unfilled.to_csv('Cleansed_Data_Unfilled.csv', index = False)\n",
        "aggr_df.to_csv('Cleansed_Data.csv', index = False)\n",
        "landclass_df.to_csv('Cleansed_LandClass.csv', index = False)\n",
        "forecasts_df.to_csv('Cleansed_Forecasts.csv', index = False)"
      ],
      "execution_count": 146,
      "outputs": []
    }
  ]
}