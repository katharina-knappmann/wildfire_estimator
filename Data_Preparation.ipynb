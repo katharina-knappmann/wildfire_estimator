{
  "nbformat": 4,
  "nbformat_minor": 0,
  "metadata": {
    "kernelspec": {
      "name": "python3",
      "display_name": "Python 3"
    },
    "colab": {
      "name": "Data_Preparation.ipynb",
      "provenance": [],
      "collapsed_sections": [],
      "include_colab_link": true
    }
  },
  "cells": [
    {
      "cell_type": "markdown",
      "metadata": {
        "id": "view-in-github",
        "colab_type": "text"
      },
      "source": [
        "<a href=\"https://colab.research.google.com/github/knattarina/wildfire_challenge/blob/main/Data_Preparation.ipynb\" target=\"_parent\"><img src=\"https://colab.research.google.com/assets/colab-badge.svg\" alt=\"Open In Colab\"/></a>"
      ]
    },
    {
      "cell_type": "code",
      "metadata": {
        "id": "NIZbDkz-dC6J"
      },
      "source": [
        "##### IMPORTS AND SETUP #####\n",
        "\n",
        "import sys\n",
        "import pandas as pd\n",
        "import numpy as np\n",
        "import datetime\n",
        "import os\n",
        "\n",
        "#from project_lib import Project\n",
        "#from pyspark.sql import SparkSession\n",
        "from google.colab import drive\n",
        "\n",
        "#project = Project(sc,\"ff75f9c0-4f85-495d-bbc1-6305f6b1dbb8\", \"p-12f1b4bbd0ab3b00eacd4ce1201f20ce039b72ec\")\n",
        "#spark = SparkSession.builder.getOrCreate()"
      ],
      "execution_count": null,
      "outputs": []
    },
    {
      "cell_type": "code",
      "metadata": {
        "colab": {
          "base_uri": "https://localhost:8080/"
        },
        "id": "iVzy9D46e0sa",
        "outputId": "12f6800e-d958-49f7-aa2e-f06956f4259b"
      },
      "source": [
        "drive.mount('/content/drive')\r\n",
        "os.chdir('/content/drive/My Drive/Wildfire_Challenge/Data')"
      ],
      "execution_count": null,
      "outputs": [
        {
          "output_type": "stream",
          "text": [
            "Mounted at /content/drive\n"
          ],
          "name": "stdout"
        }
      ]
    },
    {
      "cell_type": "code",
      "metadata": {
        "id": "d8oqlgT1fPW4"
      },
      "source": [
        "def get_df_watson(file_name):\r\n",
        "    file = project.get_file(file_name)\r\n",
        "    file.seek(0)\r\n",
        "    return pd.read_csv(file)\r\n",
        "\r\n",
        "wildfires_df = pd.read_csv('Historical_Wildfires.csv')\r\n",
        "weather_df = pd.read_csv('HistoricalWeather.csv')\r\n",
        "forecasts_df = pd.read_csv('HistoricalWeatherForecasts.csv')\r\n",
        "landclass_df = pd.read_csv('LandClass.csv')\r\n",
        "\r\n",
        "forecasts_df['Date'] = pd.to_datetime(forecasts_df['Date'])\r\n",
        "wildfires_df['Date'] = pd.to_datetime(wildfires_df['Date'])\r\n",
        "weather_df['Date'] = pd.to_datetime(weather_df['Date'])"
      ],
      "execution_count": 63,
      "outputs": []
    },
    {
      "cell_type": "code",
      "metadata": {
        "id": "9LCnGUNKdC6e"
      },
      "source": [
        "##### ADD FIX DATA TO LANDCLASS #####\n",
        "temp_df = pd.DataFrame.drop_duplicates(weather_df[['Region','count()[unit: km^2]']])\n",
        "landclass_df = pd.merge(landclass_df, temp_df)"
      ],
      "execution_count": 64,
      "outputs": []
    },
    {
      "cell_type": "code",
      "metadata": {
        "id": "q4h9lHuHdC6f"
      },
      "source": [
        "##### REPLACE ZEROES WITH NAN #####\n",
        "wildfires_df = wildfires_df.mask(wildfires_df==0)\n",
        "wildfires_df = wildfires_df.drop(columns = ['Replaced', 'Count'])"
      ],
      "execution_count": 65,
      "outputs": []
    },
    {
      "cell_type": "code",
      "metadata": {
        "id": "uwshLZNjdC6g"
      },
      "source": [
        "##### REFORMAT WEATHER DATA #####\n",
        "def reformat_weather_data(df):\n",
        "    df = df.rename(columns={\"count()[unit: km^2]\": \"Area\", \"min()\": \"Min\", \"max()\": \"Max\", \"mean()\": \"Mean\", \"variance()\": \"Variance\"})\n",
        "\n",
        "    # Reformat the data\n",
        "    df_pivot = df.pivot_table(values=['Min','Max','Mean','Variance'], index=['Date','Region'], columns=['Parameter'])\n",
        "    # Reset dataframe index\n",
        "    df_pivot.reset_index(inplace=True)\n",
        "\n",
        "    # Renaming Column names\n",
        "    df_pivot.columns = [col[0] if not(col[1]) else '{1}_{0}'.format(*col) for col in df_pivot.columns.values]\n",
        "\n",
        "    # Rearranging Data and column\n",
        "    params = df_pivot.columns.tolist()[3:]\n",
        "    params.sort()\n",
        "    return df_pivot[df_pivot.columns.tolist()[:3] + params].copy()\n",
        "\n",
        "weather_df = reformat_weather_data(weather_df)\n",
        "forecasts_df = reformat_weather_data(forecasts_df)"
      ],
      "execution_count": 66,
      "outputs": []
    },
    {
      "cell_type": "code",
      "metadata": {
        "colab": {
          "base_uri": "https://localhost:8080/"
        },
        "id": "qUytNN9mdC6g",
        "outputId": "4399aa78-9e17-4831-dce2-32512e2bcab2"
      },
      "source": [
        "##### MERGE DATA #####\n",
        "aggr_df = wildfires_df.merge(weather_df, how='left', on=['Date', 'Region'])\n",
        "\n",
        "# check for missing values\n",
        "aggr_df.isna().sum()"
      ],
      "execution_count": 67,
      "outputs": [
        {
          "output_type": "execute_result",
          "data": {
            "text/plain": [
              "Region                                    0\n",
              "Date                                      0\n",
              "Estimated_fire_area                       0\n",
              "Mean_estimated_fire_brightness            0\n",
              "Mean_estimated_fire_radiative_power       7\n",
              "Mean_confidence                           0\n",
              "Std_confidence                         2388\n",
              "Var_confidence                         2388\n",
              "Precipitation_Max                         4\n",
              "Precipitation_Mean                        4\n",
              "Precipitation_Min                         4\n",
              "Precipitation_Variance                    4\n",
              "RelativeHumidity_Max                     27\n",
              "RelativeHumidity_Mean                    27\n",
              "RelativeHumidity_Min                     27\n",
              "RelativeHumidity_Variance                27\n",
              "SoilWaterContent_Max                      0\n",
              "SoilWaterContent_Mean                     0\n",
              "SoilWaterContent_Min                      0\n",
              "SoilWaterContent_Variance                 0\n",
              "SolarRadiation_Max                        6\n",
              "SolarRadiation_Mean                       6\n",
              "SolarRadiation_Min                        6\n",
              "SolarRadiation_Variance                   6\n",
              "Temperature_Max                           9\n",
              "Temperature_Mean                          9\n",
              "Temperature_Min                           9\n",
              "Temperature_Variance                      9\n",
              "WindSpeed_Max                            16\n",
              "WindSpeed_Mean                           16\n",
              "WindSpeed_Min                            16\n",
              "WindSpeed_Variance                       16\n",
              "dtype: int64"
            ]
          },
          "metadata": {
            "tags": []
          },
          "execution_count": 67
        }
      ]
    },
    {
      "cell_type": "code",
      "metadata": {
        "id": "XKcijI3fdC6i"
      },
      "source": [
        "##### Prepare Data for Injection in aggr_df ####\n",
        "columns = ['RelativeHumidity_Max', 'RelativeHumidity_Mean', 'RelativeHumidity_Min', 'RelativeHumidity_Variance', 'SolarRadiation_Max', 'SolarRadiation_Mean', 'SolarRadiation_Min', 'SolarRadiation_Variance', 'Temperature_Max', 'Temperature_Mean', 'Temperature_Min', 'Temperature_Variance', 'WindSpeed_Max', 'WindSpeed_Mean', 'WindSpeed_Min', 'WindSpeed_Variance']\n",
        "forecasts_df[columns] = forecasts_df[columns].fillna((forecasts_df[columns].fillna(method='ffill') + forecasts_df[columns].fillna(method='bfill'))/2)\n",
        "\n",
        "##### FILL MISSING DATES ######\n",
        "def fill_frames(df):\n",
        "    df_all = pd.DataFrame()\n",
        "    for region in landclass_df.Region:\n",
        "        df_temp = df[df['Region'] == region]\n",
        "        df_temp = df_temp.resample('1D', on='Date').first().drop('Date', 1).reset_index()\n",
        "        df_temp[['Region']] = df_temp[['Region']].fillna(value = region)\n",
        "        df_all = df_all.append(df_temp)\n",
        "    return df_all\n",
        "\n",
        "aggr_df = fill_frames(aggr_df)\n",
        "aggr_df = aggr_df.set_index(['Date','Region']).fillna(forecasts_df.set_index(['Date','Region'])).reset_index()"
      ],
      "execution_count": 83,
      "outputs": []
    },
    {
      "cell_type": "code",
      "metadata": {
        "colab": {
          "base_uri": "https://localhost:8080/"
        },
        "id": "qV0zbyKbz5s1",
        "outputId": "bbb603f7-7578-476f-b6a0-24424ccaace1"
      },
      "source": [
        "aggr_df.isna().sum()"
      ],
      "execution_count": 84,
      "outputs": [
        {
          "output_type": "execute_result",
          "data": {
            "text/plain": [
              "Date                                       0\n",
              "Region                                     0\n",
              "Estimated_fire_area                    14031\n",
              "Mean_estimated_fire_brightness         14031\n",
              "Mean_estimated_fire_radiative_power    14038\n",
              "Mean_confidence                        14031\n",
              "Std_confidence                         16419\n",
              "Var_confidence                         16419\n",
              "Precipitation_Max                       9420\n",
              "Precipitation_Mean                      9420\n",
              "Precipitation_Min                       9420\n",
              "Precipitation_Variance                  9420\n",
              "RelativeHumidity_Max                    8134\n",
              "RelativeHumidity_Mean                   8134\n",
              "RelativeHumidity_Min                    8134\n",
              "RelativeHumidity_Variance               8134\n",
              "SoilWaterContent_Max                   14031\n",
              "SoilWaterContent_Mean                  14031\n",
              "SoilWaterContent_Min                   14031\n",
              "SoilWaterContent_Variance              14031\n",
              "SolarRadiation_Max                      8125\n",
              "SolarRadiation_Mean                     8125\n",
              "SolarRadiation_Min                      8125\n",
              "SolarRadiation_Variance                 8125\n",
              "Temperature_Max                         8130\n",
              "Temperature_Mean                        8130\n",
              "Temperature_Min                         8130\n",
              "Temperature_Variance                    8130\n",
              "WindSpeed_Max                           8125\n",
              "WindSpeed_Mean                          8125\n",
              "WindSpeed_Min                           8125\n",
              "WindSpeed_Variance                      8125\n",
              "dtype: int64"
            ]
          },
          "metadata": {
            "tags": []
          },
          "execution_count": 84
        }
      ]
    },
    {
      "cell_type": "code",
      "metadata": {
        "id": "hDquRDeil4vT"
      },
      "source": [
        ""
      ],
      "execution_count": 82,
      "outputs": []
    },
    {
      "cell_type": "code",
      "metadata": {
        "id": "5kI7LMaG0KTB"
      },
      "source": [
        ""
      ],
      "execution_count": 82,
      "outputs": []
    },
    {
      "cell_type": "code",
      "metadata": {
        "id": "Yun2Tj5aiO8w"
      },
      "source": [
        ""
      ],
      "execution_count": 82,
      "outputs": []
    },
    {
      "cell_type": "code",
      "metadata": {
        "id": "w98CqPIfewN4"
      },
      "source": [
        ""
      ],
      "execution_count": 82,
      "outputs": []
    },
    {
      "cell_type": "code",
      "metadata": {
        "id": "wL2YiiFRkO2P"
      },
      "source": [
        ""
      ],
      "execution_count": 82,
      "outputs": []
    },
    {
      "cell_type": "code",
      "metadata": {
        "id": "4tVjRiKbeqCx"
      },
      "source": [
        "def fill_missing_values(df, columns):\r\n",
        "    print(df.head())\r\n",
        "    temp_df = df[['Date', 'Region']]\r\n",
        "    df = df[columns]\r\n",
        "    print(type(df))\r\n",
        "    df_year = pd.DataFrame()\r\n",
        "    for i in range(1,13):\r\n",
        "      df = pd.DataFrame(df)\r\n",
        "      df_month = df[df['Month']== i]\r\n",
        "      df = df.fillna(value=df.mean(), inplace=True)\r\n",
        "      #df = df.fillna((df.fillna(method='ffill') + df.fillna(method='bfill'))/2)\r\n",
        "      #df = df.fillna(method='ffill')\r\n",
        "      #df = df.fillna(method='bfill')\r\n",
        "      df_year = df_year.append(df_month)\r\n",
        "    return df_year.assign(Date = temp_df['Date'], Region = temp_df['Region'])\r\n",
        "\r\n",
        "aggr_columns = ['Estimated_fire_area', 'Mean_estimated_fire_brightness', 'Mean_estimated_fire_radiative_power', 'Mean_confidence', 'Std_confidence', 'Var_confidence', 'Precipitation_Max', 'Precipitation_Mean', 'Precipitation_Min', 'Precipitation_Variance', 'RelativeHumidity_Max', 'RelativeHumidity_Mean', 'RelativeHumidity_Min', 'RelativeHumidity_Variance', 'SoilWaterContent_Max', 'SoilWaterContent_Mean', 'SoilWaterContent_Min', 'SoilWaterContent_Variance', 'SolarRadiation_Max', 'SolarRadiation_Mean', 'SolarRadiation_Min', 'SolarRadiation_Variance', 'Temperature_Max', 'Temperature_Mean', 'Temperature_Min', 'Temperature_Variance', 'WindSpeed_Max', 'WindSpeed_Mean', 'WindSpeed_Min', 'WindSpeed_Variance', 'Year', 'Month']\r\n",
        "forecasts_columns = ['Precipitation_Max', 'Precipitation_Mean', 'Precipitation_Min', 'Precipitation_Variance', 'RelativeHumidity_Max', 'RelativeHumidity_Mean', 'RelativeHumidity_Min', 'RelativeHumidity_Variance', 'SolarRadiation_Max', 'SolarRadiation_Mean', 'SolarRadiation_Min', 'SolarRadiation_Variance', 'Temperature_Max', 'Temperature_Mean', 'Temperature_Min', 'Temperature_Variance', 'WindSpeed_Max', 'WindSpeed_Mean', 'WindSpeed_Min', 'WindSpeed_Variance', 'Month', 'Year']\r\n",
        "#aggr_df = fill_frame(aggr_df, aggr_columns)\r\n",
        "#forecasts_df = fill_missing_values(forecasts_df)\r\n",
        "\r\n",
        "#KEIN SOILWATER IN FORECAST --> in weather model löschen"
      ],
      "execution_count": null,
      "outputs": []
    },
    {
      "cell_type": "code",
      "metadata": {
        "id": "dU2R-4atVqoa"
      },
      "source": [
        "##### Prepare Weather Data for Weather Model #####\r\n",
        "def prepare(df):\r\n",
        "    df_all = pd.DataFrame()\r\n",
        "    for region in landclass_df.Region:\r\n",
        "        df_temp = df[df['Region'] == region]\r\n",
        "        df_temp = df_temp.resample('1D', on='Date').first().drop('Date', 1).reset_index()\r\n",
        "        df_temp[['Region']] = df_temp[['Region']].fillna(value = region)\r\n",
        "        df_temp[\"month\"] = df_temp[\"Date\"].dt.month\r\n",
        "        df_temp[\"year\"] = df_temp[\"Date\"].dt.year\r\n",
        "        df_temp = fill_missing_values(df_temp)\r\n",
        "        df_all = df_all.append(df_temp)\r\n",
        "    return df_all\r\n",
        "\r\n",
        "forecasts_df.isna().sum()"
      ],
      "execution_count": null,
      "outputs": []
    },
    {
      "cell_type": "code",
      "metadata": {
        "id": "nZLjSU0pJTyV"
      },
      "source": [
        ""
      ],
      "execution_count": null,
      "outputs": []
    },
    {
      "cell_type": "code",
      "metadata": {
        "id": "s8nxtr8udC6j"
      },
      "source": [
        "aggr_df.isna().sum()"
      ],
      "execution_count": null,
      "outputs": []
    },
    {
      "cell_type": "code",
      "metadata": {
        "id": "oBXaO0OndC6l"
      },
      "source": [
        "# segregation of day, month, year in the original dataset to check the seasonality\n",
        "def segregate_date(df):\n",
        "    df[\"day\"] = df[\"Date\"].dt.day\n",
        "    df[\"month\"] = df[\"Date\"].dt.month\n",
        "    df[\"year\"] = df[\"Date\"].dt.year\n",
        "    return df\n",
        "\n",
        "aggr_df = segregate_date(aggr_df)\n",
        "forecasts_df = segregate_date(forecasts_df)"
      ],
      "execution_count": null,
      "outputs": []
    },
    {
      "cell_type": "code",
      "metadata": {
        "id": "NT8cX4ZMdC6m"
      },
      "source": [
        "aggr_df = aggr_df.set_index(['Date', 'Region'])\n",
        "forecasts_df = forecasts_df.set_index(['Date', 'Region'])"
      ],
      "execution_count": null,
      "outputs": []
    },
    {
      "cell_type": "code",
      "metadata": {
        "id": "8x4_2aqEdC6n"
      },
      "source": [
        "##### SAVE FILES #####\n",
        "def save_files_watson():\n",
        "  project.save_data(\"Cleansed_Data.csv\", aggr_df.to_csv(index=False), overwrite=True)\n",
        "  project.save_data(\"LandClass.csv\", landclass_df.to_csv(index=False), overwrite=True)\n",
        "  project.save_data(\"Cleansed_Forecasts.csv\", forecasts_df.to_csv(index=False), overwrite=True)\n",
        "\n",
        "aggr_df.to_csv('Cleansed_Data.csv', index = True)\n",
        "landclass_df.to_csv('Cleansed_LandClass.csv', index = True)\n",
        "forecasts_df.to_csv('Cleansed_Forecasts.csv', index = True)"
      ],
      "execution_count": null,
      "outputs": []
    },
    {
      "cell_type": "code",
      "metadata": {
        "scrolled": true,
        "id": "X89iz1RUdC6p"
      },
      "source": [
        "# Download as CSV: data frame, optional title and filename\n",
        "def create_download_link_csv(df, title = \"Download CSV file\", filename = \"data.csv\"):  \n",
        "    # generate in-memory CSV, then base64-encode it\n",
        "    csv = df.to_csv(index=False)\n",
        "    b64 = base64.b64encode(csv.encode())\n",
        "    payload = b64.decode()\n",
        "    html = '<a download=\"{filename}\" href=\"data:text/csv;base64,{payload}\" target=\"_blank\">{title}</a>'\n",
        "    html = html.format(payload=payload,title=title,filename=filename)\n",
        "    return HTML(html)\n",
        "\n",
        "#create_download_link_csv(df_NSW,\"Download my data\",\"NSW.csv\")"
      ],
      "execution_count": null,
      "outputs": []
    }
  ]
}