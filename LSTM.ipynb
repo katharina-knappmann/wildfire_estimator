{
  "nbformat": 4,
  "nbformat_minor": 0,
  "metadata": {
    "kernelspec": {
      "name": "python3",
      "display_name": "Python 3"
    },
    "colab": {
      "name": "LSTM.ipynb",
      "provenance": [],
      "collapsed_sections": [],
      "include_colab_link": true
    },
    "accelerator": "GPU"
  },
  "cells": [
    {
      "cell_type": "markdown",
      "metadata": {
        "id": "view-in-github",
        "colab_type": "text"
      },
      "source": [
        "<a href=\"https://colab.research.google.com/github/knattarina/wildfire_challenge/blob/main/LSTM.ipynb\" target=\"_parent\"><img src=\"https://colab.research.google.com/assets/colab-badge.svg\" alt=\"Open In Colab\"/></a>"
      ]
    },
    {
      "cell_type": "code",
      "metadata": {
        "id": "NIZbDkz-dC6J"
      },
      "source": [
        "##### IMPORTS AND SETUP #####\n",
        "#!pip install scikit-learn --upgrade\n",
        "\n",
        "import numpy as np\n",
        "import matplotlib.pyplot as plt\n",
        "import pandas as pd\n",
        "pd.set_option('display.float_format', lambda x: '%.4f' % x)\n",
        "import seaborn as sns\n",
        "sns.set_context(\"paper\", font_scale=1.3)\n",
        "sns.set_style('white')\n",
        "import warnings\n",
        "warnings.filterwarnings('ignore')\n",
        "from numpy import array\n",
        "from keras.models import Sequential\n",
        "from keras.optimizers import Adam\n",
        "from keras.layers import Dense, LSTM, Dropout\n",
        "from time import time\n",
        "import os\n",
        "from google.colab import drive\n",
        "\n",
        "#from project_lib import Project\n",
        "#from pyspark.sql import SparkSession\n",
        "\n",
        "#project = Project(sc,\"ff75f9c0-4f85-495d-bbc1-6305f6b1dbb8\", \"p-12f1b4bbd0ab3b00eacd4ce1201f20ce039b72ec\")\n",
        "#spark = SparkSession.builder.getOrCreate()"
      ],
      "execution_count": 2,
      "outputs": []
    },
    {
      "cell_type": "code",
      "metadata": {
        "colab": {
          "base_uri": "https://localhost:8080/",
          "height": 314
        },
        "id": "iVzy9D46e0sa",
        "outputId": "c90b43a7-3d2d-4452-f932-8345a1b223c8"
      },
      "source": [
        "drive.mount('/content/drive')\r\n",
        "os.chdir('/content/drive/My Drive/Wildfire_Challenge/Data')\r\n",
        "\r\n",
        "\r\n",
        "df_all = pd.read_csv('Cleansed_Data.csv')\r\n",
        "df_all['Date'] = pd.to_datetime(df_all['Date'])\r\n",
        "\r\n",
        "df_all.head()"
      ],
      "execution_count": 3,
      "outputs": [
        {
          "output_type": "stream",
          "text": [
            "Mounted at /content/drive\n"
          ],
          "name": "stdout"
        },
        {
          "output_type": "execute_result",
          "data": {
            "text/html": [
              "<div>\n",
              "<style scoped>\n",
              "    .dataframe tbody tr th:only-of-type {\n",
              "        vertical-align: middle;\n",
              "    }\n",
              "\n",
              "    .dataframe tbody tr th {\n",
              "        vertical-align: top;\n",
              "    }\n",
              "\n",
              "    .dataframe thead th {\n",
              "        text-align: right;\n",
              "    }\n",
              "</style>\n",
              "<table border=\"1\" class=\"dataframe\">\n",
              "  <thead>\n",
              "    <tr style=\"text-align: right;\">\n",
              "      <th></th>\n",
              "      <th>Date</th>\n",
              "      <th>Region</th>\n",
              "      <th>Estimated_fire_area</th>\n",
              "      <th>Mean_estimated_fire_brightness</th>\n",
              "      <th>Mean_estimated_fire_radiative_power</th>\n",
              "      <th>Mean_confidence</th>\n",
              "      <th>Precipitation_Max</th>\n",
              "      <th>Precipitation_Mean</th>\n",
              "      <th>Precipitation_Min</th>\n",
              "      <th>Precipitation_Variance</th>\n",
              "      <th>RelativeHumidity_Max</th>\n",
              "      <th>RelativeHumidity_Mean</th>\n",
              "      <th>RelativeHumidity_Min</th>\n",
              "      <th>RelativeHumidity_Variance</th>\n",
              "      <th>SoilWaterContent_Max</th>\n",
              "      <th>SoilWaterContent_Mean</th>\n",
              "      <th>SoilWaterContent_Min</th>\n",
              "      <th>SoilWaterContent_Variance</th>\n",
              "      <th>SolarRadiation_Max</th>\n",
              "      <th>SolarRadiation_Mean</th>\n",
              "      <th>SolarRadiation_Min</th>\n",
              "      <th>SolarRadiation_Variance</th>\n",
              "      <th>Temperature_Max</th>\n",
              "      <th>Temperature_Mean</th>\n",
              "      <th>Temperature_Min</th>\n",
              "      <th>Temperature_Variance</th>\n",
              "      <th>WindSpeed_Max</th>\n",
              "      <th>WindSpeed_Mean</th>\n",
              "      <th>WindSpeed_Min</th>\n",
              "      <th>WindSpeed_Variance</th>\n",
              "      <th>Month</th>\n",
              "      <th>Year</th>\n",
              "      <th>Shrubs</th>\n",
              "      <th>Herbaceous vegetation</th>\n",
              "      <th>Cultivated and managed vegetation/agriculture (cropland)</th>\n",
              "      <th>Urban / built up</th>\n",
              "      <th>Bare / sparse vegetation</th>\n",
              "      <th>Permanent water bodies</th>\n",
              "      <th>Herbaceous wetland</th>\n",
              "      <th>Closed forest, evergreen, broad leaf</th>\n",
              "      <th>Closed forest, deciduous broad leaf</th>\n",
              "      <th>Closed forest, unknown</th>\n",
              "      <th>Open forest, evergreen broad leaf</th>\n",
              "      <th>Open forest, deciduous broad leaf</th>\n",
              "      <th>Open forest, unknown definitions</th>\n",
              "      <th>Open sea</th>\n",
              "      <th>count()[unit: km^2]</th>\n",
              "    </tr>\n",
              "  </thead>\n",
              "  <tbody>\n",
              "    <tr>\n",
              "      <th>0</th>\n",
              "      <td>2005-01-04</td>\n",
              "      <td>NSW</td>\n",
              "      <td>8.6800</td>\n",
              "      <td>312.2667</td>\n",
              "      <td>42.4000</td>\n",
              "      <td>78.6667</td>\n",
              "      <td>22.8426</td>\n",
              "      <td>2.8086</td>\n",
              "      <td>0.0000</td>\n",
              "      <td>17.3834</td>\n",
              "      <td>90.3328</td>\n",
              "      <td>57.0956</td>\n",
              "      <td>31.2799</td>\n",
              "      <td>267.1584</td>\n",
              "      <td>0.4449</td>\n",
              "      <td>0.2143</td>\n",
              "      <td>0.0226</td>\n",
              "      <td>0.0100</td>\n",
              "      <td>33.2141</td>\n",
              "      <td>22.6173</td>\n",
              "      <td>7.5769</td>\n",
              "      <td>40.2555</td>\n",
              "      <td>28.9455</td>\n",
              "      <td>23.0555</td>\n",
              "      <td>12.4958</td>\n",
              "      <td>9.4555</td>\n",
              "      <td>7.3642</td>\n",
              "      <td>4.8418</td>\n",
              "      <td>1.4020</td>\n",
              "      <td>1.4943</td>\n",
              "      <td>1</td>\n",
              "      <td>2005</td>\n",
              "      <td>6.2000</td>\n",
              "      <td>43.6000</td>\n",
              "      <td>13.0000</td>\n",
              "      <td>0.3000</td>\n",
              "      <td>0.2000</td>\n",
              "      <td>0.2000</td>\n",
              "      <td>0.1000</td>\n",
              "      <td>14.7000</td>\n",
              "      <td>6.8000</td>\n",
              "      <td>0.3000</td>\n",
              "      <td>0.5000</td>\n",
              "      <td>3.7000</td>\n",
              "      <td>10.3000</td>\n",
              "      <td>0.1000</td>\n",
              "      <td>800234.3490</td>\n",
              "    </tr>\n",
              "    <tr>\n",
              "      <th>1</th>\n",
              "      <td>2005-01-05</td>\n",
              "      <td>NSW</td>\n",
              "      <td>16.6112</td>\n",
              "      <td>322.4750</td>\n",
              "      <td>62.3625</td>\n",
              "      <td>85.5000</td>\n",
              "      <td>7.6572</td>\n",
              "      <td>0.1579</td>\n",
              "      <td>0.0000</td>\n",
              "      <td>0.2735</td>\n",
              "      <td>88.6234</td>\n",
              "      <td>47.1707</td>\n",
              "      <td>24.4667</td>\n",
              "      <td>195.6397</td>\n",
              "      <td>0.4430</td>\n",
              "      <td>0.2040</td>\n",
              "      <td>0.0199</td>\n",
              "      <td>0.0095</td>\n",
              "      <td>33.5549</td>\n",
              "      <td>28.0768</td>\n",
              "      <td>14.0873</td>\n",
              "      <td>29.7631</td>\n",
              "      <td>29.5101</td>\n",
              "      <td>22.4258</td>\n",
              "      <td>9.6118</td>\n",
              "      <td>13.3524</td>\n",
              "      <td>7.0911</td>\n",
              "      <td>4.0141</td>\n",
              "      <td>1.0113</td>\n",
              "      <td>1.0433</td>\n",
              "      <td>1</td>\n",
              "      <td>2005</td>\n",
              "      <td>6.2000</td>\n",
              "      <td>43.6000</td>\n",
              "      <td>13.0000</td>\n",
              "      <td>0.3000</td>\n",
              "      <td>0.2000</td>\n",
              "      <td>0.2000</td>\n",
              "      <td>0.1000</td>\n",
              "      <td>14.7000</td>\n",
              "      <td>6.8000</td>\n",
              "      <td>0.3000</td>\n",
              "      <td>0.5000</td>\n",
              "      <td>3.7000</td>\n",
              "      <td>10.3000</td>\n",
              "      <td>0.1000</td>\n",
              "      <td>800234.3490</td>\n",
              "    </tr>\n",
              "    <tr>\n",
              "      <th>2</th>\n",
              "      <td>2005-01-06</td>\n",
              "      <td>NSW</td>\n",
              "      <td>5.5200</td>\n",
              "      <td>325.2667</td>\n",
              "      <td>38.4000</td>\n",
              "      <td>78.3333</td>\n",
              "      <td>27.6165</td>\n",
              "      <td>0.4348</td>\n",
              "      <td>0.0000</td>\n",
              "      <td>4.6345</td>\n",
              "      <td>92.8510</td>\n",
              "      <td>39.8746</td>\n",
              "      <td>21.7060</td>\n",
              "      <td>213.3006</td>\n",
              "      <td>0.4319</td>\n",
              "      <td>0.1937</td>\n",
              "      <td>0.0200</td>\n",
              "      <td>0.0088</td>\n",
              "      <td>34.0758</td>\n",
              "      <td>30.5617</td>\n",
              "      <td>12.3105</td>\n",
              "      <td>22.6677</td>\n",
              "      <td>26.9827</td>\n",
              "      <td>20.6214</td>\n",
              "      <td>9.0240</td>\n",
              "      <td>11.7642</td>\n",
              "      <td>9.9058</td>\n",
              "      <td>4.4779</td>\n",
              "      <td>0.9308</td>\n",
              "      <td>1.9537</td>\n",
              "      <td>1</td>\n",
              "      <td>2005</td>\n",
              "      <td>6.2000</td>\n",
              "      <td>43.6000</td>\n",
              "      <td>13.0000</td>\n",
              "      <td>0.3000</td>\n",
              "      <td>0.2000</td>\n",
              "      <td>0.2000</td>\n",
              "      <td>0.1000</td>\n",
              "      <td>14.7000</td>\n",
              "      <td>6.8000</td>\n",
              "      <td>0.3000</td>\n",
              "      <td>0.5000</td>\n",
              "      <td>3.7000</td>\n",
              "      <td>10.3000</td>\n",
              "      <td>0.1000</td>\n",
              "      <td>800234.3490</td>\n",
              "    </tr>\n",
              "    <tr>\n",
              "      <th>3</th>\n",
              "      <td>2005-01-07</td>\n",
              "      <td>NSW</td>\n",
              "      <td>6.2640</td>\n",
              "      <td>313.8700</td>\n",
              "      <td>33.8000</td>\n",
              "      <td>92.2000</td>\n",
              "      <td>3.8392</td>\n",
              "      <td>0.0642</td>\n",
              "      <td>0.0000</td>\n",
              "      <td>0.0389</td>\n",
              "      <td>79.1031</td>\n",
              "      <td>39.2794</td>\n",
              "      <td>16.2155</td>\n",
              "      <td>245.6246</td>\n",
              "      <td>0.4185</td>\n",
              "      <td>0.1838</td>\n",
              "      <td>0.0181</td>\n",
              "      <td>0.0078</td>\n",
              "      <td>34.0192</td>\n",
              "      <td>32.1437</td>\n",
              "      <td>16.0446</td>\n",
              "      <td>6.9493</td>\n",
              "      <td>24.7521</td>\n",
              "      <td>19.6327</td>\n",
              "      <td>8.6912</td>\n",
              "      <td>7.9404</td>\n",
              "      <td>10.4468</td>\n",
              "      <td>4.0176</td>\n",
              "      <td>1.6017</td>\n",
              "      <td>1.1028</td>\n",
              "      <td>1</td>\n",
              "      <td>2005</td>\n",
              "      <td>6.2000</td>\n",
              "      <td>43.6000</td>\n",
              "      <td>13.0000</td>\n",
              "      <td>0.3000</td>\n",
              "      <td>0.2000</td>\n",
              "      <td>0.2000</td>\n",
              "      <td>0.1000</td>\n",
              "      <td>14.7000</td>\n",
              "      <td>6.8000</td>\n",
              "      <td>0.3000</td>\n",
              "      <td>0.5000</td>\n",
              "      <td>3.7000</td>\n",
              "      <td>10.3000</td>\n",
              "      <td>0.1000</td>\n",
              "      <td>800234.3490</td>\n",
              "    </tr>\n",
              "    <tr>\n",
              "      <th>4</th>\n",
              "      <td>2005-01-08</td>\n",
              "      <td>NSW</td>\n",
              "      <td>5.4000</td>\n",
              "      <td>337.3833</td>\n",
              "      <td>122.5333</td>\n",
              "      <td>91.0000</td>\n",
              "      <td>2.8667</td>\n",
              "      <td>0.2034</td>\n",
              "      <td>0.0000</td>\n",
              "      <td>0.2363</td>\n",
              "      <td>83.0015</td>\n",
              "      <td>42.4008</td>\n",
              "      <td>14.0085</td>\n",
              "      <td>342.9968</td>\n",
              "      <td>0.4134</td>\n",
              "      <td>0.1759</td>\n",
              "      <td>0.0144</td>\n",
              "      <td>0.0075</td>\n",
              "      <td>33.2651</td>\n",
              "      <td>29.3477</td>\n",
              "      <td>15.2099</td>\n",
              "      <td>27.8228</td>\n",
              "      <td>26.4725</td>\n",
              "      <td>21.4773</td>\n",
              "      <td>10.8213</td>\n",
              "      <td>12.0640</td>\n",
              "      <td>6.6719</td>\n",
              "      <td>3.8846</td>\n",
              "      <td>1.1679</td>\n",
              "      <td>0.7746</td>\n",
              "      <td>1</td>\n",
              "      <td>2005</td>\n",
              "      <td>6.2000</td>\n",
              "      <td>43.6000</td>\n",
              "      <td>13.0000</td>\n",
              "      <td>0.3000</td>\n",
              "      <td>0.2000</td>\n",
              "      <td>0.2000</td>\n",
              "      <td>0.1000</td>\n",
              "      <td>14.7000</td>\n",
              "      <td>6.8000</td>\n",
              "      <td>0.3000</td>\n",
              "      <td>0.5000</td>\n",
              "      <td>3.7000</td>\n",
              "      <td>10.3000</td>\n",
              "      <td>0.1000</td>\n",
              "      <td>800234.3490</td>\n",
              "    </tr>\n",
              "  </tbody>\n",
              "</table>\n",
              "</div>"
            ],
            "text/plain": [
              "        Date Region  ...  Open sea  count()[unit: km^2]\n",
              "0 2005-01-04    NSW  ...    0.1000          800234.3490\n",
              "1 2005-01-05    NSW  ...    0.1000          800234.3490\n",
              "2 2005-01-06    NSW  ...    0.1000          800234.3490\n",
              "3 2005-01-07    NSW  ...    0.1000          800234.3490\n",
              "4 2005-01-08    NSW  ...    0.1000          800234.3490\n",
              "\n",
              "[5 rows x 47 columns]"
            ]
          },
          "metadata": {
            "tags": []
          },
          "execution_count": 3
        }
      ]
    },
    {
      "cell_type": "code",
      "metadata": {
        "id": "klUzIuPZmIDg"
      },
      "source": [
        "columns = ['Region', 'Mean_estimated_fire_brightness', 'Mean_estimated_fire_radiative_power',\t'Mean_confidence']\r\n",
        "\r\n",
        "df = df_all[df_all['Region'] == 'QL'].copy()\r\n",
        "df['Quarter'] = df['Date'].apply(lambda x: x.quarter)\r\n",
        "df.drop(columns = columns, inplace = True)"
      ],
      "execution_count": 4,
      "outputs": []
    },
    {
      "cell_type": "code",
      "metadata": {
        "colab": {
          "base_uri": "https://localhost:8080/",
          "height": 364
        },
        "id": "Q1l928pSyAHB",
        "outputId": "65d60805-fb5c-4e39-d86c-fe0b45feeb53"
      },
      "source": [
        "plt.figure(figsize=(14,5))\r\n",
        "plt.subplot(1,2,2)\r\n",
        "plt.subplots_adjust(wspace=0.2)\r\n",
        "sns.boxplot(x=\"Year\", y=\"Estimated_fire_area\", data=df)\r\n",
        "plt.xlabel('year')\r\n",
        "plt.title('Box plot of Yearly Estimated_fire_area')\r\n",
        "sns.despine(left=True)\r\n",
        "plt.tight_layout()\r\n",
        "\r\n",
        "plt.subplot(1,2,1)\r\n",
        "sns.boxplot(x=\"Quarter\", y=\"Estimated_fire_area\", data=df)\r\n",
        "plt.xlabel('Quarter')\r\n",
        "plt.title('Box plot of Quarterly Estimated_fire_area')\r\n",
        "sns.despine(left=True)\r\n",
        "plt.tight_layout();\r\n",
        "\r\n",
        "plt.subplot(1,3,1)\r\n",
        "sns.boxplot(x=\"Month\", y=\"Estimated_fire_area\", data=df)\r\n",
        "plt.xlabel('Monthly')\r\n",
        "plt.title('Box plot of Monthly Estimated_fire_area')\r\n",
        "sns.despine(left=True)\r\n",
        "plt.tight_layout();"
      ],
      "execution_count": 5,
      "outputs": [
        {
          "output_type": "display_data",
          "data": {
            "image/png": "[encoded data removed]",
            "text/plain": [
              "<Figure size 1008x360 with 2 Axes>"
            ]
          },
          "metadata": {
            "tags": []
          }
        }
      ]
    },
    {
      "cell_type": "code",
      "metadata": {
        "colab": {
          "base_uri": "https://localhost:8080/",
          "height": 269
        },
        "id": "AwMsflMwsFEx",
        "outputId": "84a85b0f-52cd-4ce9-8072-9a030f462530"
      },
      "source": [
        "import matplotlib.pyplot as pyplot\r\n",
        "\r\n",
        "values = df_all.values\r\n",
        "# specify columns to plot\r\n",
        "groups = np.arange(1, df.shape[1]-37)\r\n",
        "i = 1\r\n",
        "# plot each column\r\n",
        "pyplot.figure()\r\n",
        "for group in groups:\r\n",
        "\tpyplot.subplot(len(groups), 1, i)\r\n",
        "\tpyplot.plot(values[:, group])\r\n",
        "\tpyplot.title(df.columns[group], y=0.5, loc='right')\r\n",
        "\ti += 1\r\n",
        "pyplot.show()"
      ],
      "execution_count": 12,
      "outputs": [
        {
          "output_type": "display_data",
          "data": {
            "image/png": "[encoded data removed]",
            "text/plain": [
              "<Figure size 432x288 with 6 Axes>"
            ]
          },
          "metadata": {
            "tags": []
          }
        }
      ]
    },
    {
      "cell_type": "code",
      "metadata": {
        "id": "B8iXK-j8sFGz"
      },
      "source": [
        "columns = ['Region', 'Mean_estimated_fire_brightness', 'Mean_estimated_fire_radiative_power',\t'Mean_confidence']\r\n",
        "\r\n",
        "df = df_all[df_all['Region'] == 'QL'].copy()\r\n",
        "df.drop(columns = columns, inplace = True)"
      ],
      "execution_count": 48,
      "outputs": []
    },
    {
      "cell_type": "code",
      "metadata": {
        "colab": {
          "base_uri": "https://localhost:8080/"
        },
        "id": "qHZGLjAisFJF",
        "outputId": "a99c2124-cfb3-443a-96ed-0051fe779315"
      },
      "source": [
        "from sklearn.preprocessing import MinMaxScaler\r\n",
        "scaler = MinMaxScaler(feature_range=(0, 1))\r\n",
        "df_scaled = scaler.fit_transform(df.drop(['Date', 'Estimated_fire_area'], axis = 1).values)\r\n",
        "df_scaled"
      ],
      "execution_count": 64,
      "outputs": [
        {
          "output_type": "execute_result",
          "data": {
            "text/plain": [
              "array([[0.15947381, 0.06532726, 0.        , ..., 0.        , 0.        ,\n",
              "        0.        ],\n",
              "       [0.18801255, 0.06944341, 0.        , ..., 0.        , 0.        ,\n",
              "        0.        ],\n",
              "       [0.11915847, 0.14870733, 0.        , ..., 0.        , 0.        ,\n",
              "        0.        ],\n",
              "       ...,\n",
              "       [0.02300721, 0.00342764, 0.        , ..., 0.        , 0.        ,\n",
              "        0.        ],\n",
              "       [0.02130348, 0.00591412, 0.        , ..., 0.        , 0.        ,\n",
              "        0.        ],\n",
              "       [0.05647456, 0.01738997, 0.        , ..., 0.        , 0.        ,\n",
              "        0.        ]])"
            ]
          },
          "metadata": {
            "tags": []
          },
          "execution_count": 64
        }
      ]
    },
    {
      "cell_type": "code",
      "metadata": {
        "colab": {
          "base_uri": "https://localhost:8080/"
        },
        "id": "oGNw65B1sFLb",
        "outputId": "f6357b1a-a66e-4da6-c748-ae79d3c4c380"
      },
      "source": [
        "# having the dataset as x and y . Making x into a 3-d data and y as 2-d data ie.) reshaping\r\n",
        "X_train = []\r\n",
        "y_train = []\r\n",
        "n_output_steps = 28  # Number of outputs we want to predict into the future\r\n",
        "n_input_steps = 30   # Number of past inputs that we want to use to predict the future\r\n",
        "for i in range(n_input_steps, len(df_scaled) - n_output_steps +1):\r\n",
        "    X_train.append(df_scaled[i - n_input_steps:i, 0:df.shape[1] - 1])\r\n",
        "    y_train.append(df_scaled[i + n_output_steps - 1:i + n_output_steps, 0])\r\n",
        "X_train, y_train = np.array(X_train), np.array(y_train)\r\n",
        "print('X_train shape == {}.'.format(X_train.shape))   # no.of samples, no. of time stamps, no. of features\r\n",
        "print('y_train shape == {}.'.format(y_train.shape))   # no. of features, no. of output time steps"
      ],
      "execution_count": 53,
      "outputs": [
        {
          "output_type": "stream",
          "text": [
            "X_train shape == (5726, 30, 42).\n",
            "y_train shape == (5726, 1).\n"
          ],
          "name": "stdout"
        }
      ]
    },
    {
      "cell_type": "code",
      "metadata": {
        "colab": {
          "base_uri": "https://localhost:8080/"
        },
        "id": "mQyPgcbWqMDh",
        "outputId": "f649d31d-f0a3-4073-c089-630061fc3037"
      },
      "source": [
        "# creating the lstm model\r\n",
        "model = Sequential()\r\n",
        "model.add(LSTM(100, activation='relu', return_sequences=True, input_shape=(n_input_steps, X_train.shape[2])))\r\n",
        "model.add(LSTM(100, activation='relu'))\r\n",
        "model.add(Dense(1))             # since we need the prediction of these many stocks\r\n",
        "model.compile(optimizer='adam', loss='mse')"
      ],
      "execution_count": 57,
      "outputs": [
        {
          "output_type": "stream",
          "text": [
            "WARNING:tensorflow:Layer lstm_2 will not use cuDNN kernel since it doesn't meet the cuDNN kernel criteria. It will use generic GPU kernel as fallback when running on GPU\n",
            "WARNING:tensorflow:Layer lstm_3 will not use cuDNN kernel since it doesn't meet the cuDNN kernel criteria. It will use generic GPU kernel as fallback when running on GPU\n"
          ],
          "name": "stdout"
        }
      ]
    },
    {
      "cell_type": "code",
      "metadata": {
        "colab": {
          "base_uri": "https://localhost:8080/"
        },
        "id": "WiaC59WSqAbO",
        "outputId": "ad973b40-b4e4-4ffd-f386-b0c61cccb1cc"
      },
      "source": [
        "from keras.callbacks import EarlyStopping, ReduceLROnPlateau, ModelCheckpoint, TensorBoard\r\n",
        "es = EarlyStopping(monitor='val_loss', min_delta=1e-10, patience=10, verbose=1)\r\n",
        "rlr = ReduceLROnPlateau(monitor='val_loss', factor=0.5, patience=10, verbose=1)\r\n",
        "mcp = ModelCheckpoint(filepath='weights.h5', monitor='val_loss', verbose=1, save_best_only=True, save_weights_only=True)\r\n",
        "tb = TensorBoard('logs')\r\n",
        "history = model.fit(X_train, y_train, shuffle=True, epochs=100, callbacks=[es, rlr, mcp, tb], validation_split=0.2, verbose=1, batch_size=20)"
      ],
      "execution_count": 58,
      "outputs": [
        {
          "output_type": "stream",
          "text": [
            "Epoch 1/100\n",
            "229/229 [==============================] - 16s 56ms/step - loss: 0.0040 - val_loss: 0.0031\n",
            "\n",
            "Epoch 00001: val_loss improved from inf to 0.00311, saving model to weights.h5\n",
            "Epoch 2/100\n",
            "229/229 [==============================] - 11s 49ms/step - loss: 0.0033 - val_loss: 0.0021\n",
            "\n",
            "Epoch 00002: val_loss improved from 0.00311 to 0.00208, saving model to weights.h5\n",
            "Epoch 3/100\n",
            "229/229 [==============================] - 11s 49ms/step - loss: 0.0026 - val_loss: 0.0020\n",
            "\n",
            "Epoch 00003: val_loss improved from 0.00208 to 0.00200, saving model to weights.h5\n",
            "Epoch 4/100\n",
            "229/229 [==============================] - 11s 49ms/step - loss: 0.0023 - val_loss: 0.0023\n",
            "\n",
            "Epoch 00004: val_loss did not improve from 0.00200\n",
            "Epoch 5/100\n",
            "229/229 [==============================] - 11s 49ms/step - loss: 0.0018 - val_loss: 0.0019\n",
            "\n",
            "Epoch 00005: val_loss improved from 0.00200 to 0.00190, saving model to weights.h5\n",
            "Epoch 6/100\n",
            "229/229 [==============================] - 11s 49ms/step - loss: 0.0024 - val_loss: 0.0020\n",
            "\n",
            "Epoch 00006: val_loss did not improve from 0.00190\n",
            "Epoch 7/100\n",
            "229/229 [==============================] - 11s 49ms/step - loss: 0.0019 - val_loss: 0.0023\n",
            "\n",
            "Epoch 00007: val_loss did not improve from 0.00190\n",
            "Epoch 8/100\n",
            "229/229 [==============================] - 11s 50ms/step - loss: 0.0017 - val_loss: 0.0023\n",
            "\n",
            "Epoch 00008: val_loss did not improve from 0.00190\n",
            "Epoch 9/100\n",
            "229/229 [==============================] - 11s 49ms/step - loss: 0.0019 - val_loss: 0.0019\n",
            "\n",
            "Epoch 00009: val_loss improved from 0.00190 to 0.00187, saving model to weights.h5\n",
            "Epoch 10/100\n",
            "229/229 [==============================] - 11s 49ms/step - loss: 0.0017 - val_loss: 0.0021\n",
            "\n",
            "Epoch 00010: val_loss did not improve from 0.00187\n",
            "Epoch 11/100\n",
            "229/229 [==============================] - 11s 49ms/step - loss: 0.0018 - val_loss: 0.0024\n",
            "\n",
            "Epoch 00011: val_loss did not improve from 0.00187\n",
            "Epoch 12/100\n",
            "229/229 [==============================] - 11s 49ms/step - loss: 0.0019 - val_loss: 0.0022\n",
            "\n",
            "Epoch 00012: val_loss did not improve from 0.00187\n",
            "Epoch 13/100\n",
            "229/229 [==============================] - 11s 49ms/step - loss: 0.0019 - val_loss: 0.0023\n",
            "\n",
            "Epoch 00013: val_loss did not improve from 0.00187\n",
            "Epoch 14/100\n",
            "229/229 [==============================] - 11s 49ms/step - loss: 0.0017 - val_loss: 0.0019\n",
            "\n",
            "Epoch 00014: val_loss did not improve from 0.00187\n",
            "Epoch 15/100\n",
            "229/229 [==============================] - 11s 48ms/step - loss: 0.0021 - val_loss: 0.0021\n",
            "\n",
            "Epoch 00015: ReduceLROnPlateau reducing learning rate to 0.0005000000237487257.\n",
            "\n",
            "Epoch 00015: val_loss did not improve from 0.00187\n",
            "Epoch 16/100\n",
            "229/229 [==============================] - 11s 49ms/step - loss: 0.0015 - val_loss: 0.0020\n",
            "\n",
            "Epoch 00016: val_loss did not improve from 0.00187\n",
            "Epoch 17/100\n",
            "229/229 [==============================] - 11s 49ms/step - loss: 0.0015 - val_loss: 0.0021\n",
            "\n",
            "Epoch 00017: val_loss did not improve from 0.00187\n",
            "Epoch 18/100\n",
            "229/229 [==============================] - 11s 48ms/step - loss: 0.0013 - val_loss: 0.0022\n",
            "\n",
            "Epoch 00018: val_loss did not improve from 0.00187\n",
            "Epoch 19/100\n",
            "229/229 [==============================] - 11s 49ms/step - loss: 0.0012 - val_loss: 0.0019\n",
            "\n",
            "Epoch 00019: val_loss did not improve from 0.00187\n",
            "Epoch 00019: early stopping\n"
          ],
          "name": "stdout"
        }
      ]
    },
    {
      "cell_type": "code",
      "metadata": {
        "id": "GeAfL3cBsFNw"
      },
      "source": [
        "predictions_future = model.predict(X_train[-n_output_steps:])\r\n",
        "predictions_train = model.predict(X_train[n_input_steps:])"
      ],
      "execution_count": 59,
      "outputs": []
    },
    {
      "cell_type": "code",
      "metadata": {
        "colab": {
          "base_uri": "https://localhost:8080/"
        },
        "id": "JIap82GMsFP7",
        "outputId": "1ff67049-7ac3-4611-e1ff-a00a1f1231e1"
      },
      "source": [
        "print(predictions_train.shape)\r\n",
        "predictions_train"
      ],
      "execution_count": 60,
      "outputs": [
        {
          "output_type": "stream",
          "text": [
            "(5696, 1)\n"
          ],
          "name": "stdout"
        },
        {
          "output_type": "execute_result",
          "data": {
            "text/plain": [
              "array([[0.00917744],\n",
              "       [0.009296  ],\n",
              "       [0.00934493],\n",
              "       ...,\n",
              "       [0.05634171],\n",
              "       [0.0556409 ],\n",
              "       [0.05696013]], dtype=float32)"
            ]
          },
          "metadata": {
            "tags": []
          },
          "execution_count": 60
        }
      ]
    },
    {
      "cell_type": "code",
      "metadata": {
        "colab": {
          "base_uri": "https://localhost:8080/"
        },
        "id": "ndmFv4B2sFSN",
        "outputId": "dc5207d4-8b7f-41db-ba61-d484cead2064"
      },
      "source": [
        "predictions_future.shape"
      ],
      "execution_count": 61,
      "outputs": [
        {
          "output_type": "execute_result",
          "data": {
            "text/plain": [
              "(28, 1)"
            ]
          },
          "metadata": {
            "tags": []
          },
          "execution_count": 61
        }
      ]
    },
    {
      "cell_type": "code",
      "metadata": {
        "colab": {
          "base_uri": "https://localhost:8080/",
          "height": 101
        },
        "id": "IbIYbasNsFUu",
        "outputId": "87a75b55-47d9-4c70-df5c-a310c069c6bd"
      },
      "source": [
        "y_pred = pd.DataFrame(predictions_future)\r\n",
        "y_pred = y_pred.T            \r\n",
        "#y_pred = y_pred.loc[0:2414]\r\n",
        "y_pred"
      ],
      "execution_count": 62,
      "outputs": [
        {
          "output_type": "execute_result",
          "data": {
            "text/html": [
              "<div>\n",
              "<style scoped>\n",
              "    .dataframe tbody tr th:only-of-type {\n",
              "        vertical-align: middle;\n",
              "    }\n",
              "\n",
              "    .dataframe tbody tr th {\n",
              "        vertical-align: top;\n",
              "    }\n",
              "\n",
              "    .dataframe thead th {\n",
              "        text-align: right;\n",
              "    }\n",
              "</style>\n",
              "<table border=\"1\" class=\"dataframe\">\n",
              "  <thead>\n",
              "    <tr style=\"text-align: right;\">\n",
              "      <th></th>\n",
              "      <th>0</th>\n",
              "      <th>1</th>\n",
              "      <th>2</th>\n",
              "      <th>3</th>\n",
              "      <th>4</th>\n",
              "      <th>5</th>\n",
              "      <th>6</th>\n",
              "      <th>7</th>\n",
              "      <th>8</th>\n",
              "      <th>9</th>\n",
              "      <th>10</th>\n",
              "      <th>11</th>\n",
              "      <th>12</th>\n",
              "      <th>13</th>\n",
              "      <th>14</th>\n",
              "      <th>15</th>\n",
              "      <th>16</th>\n",
              "      <th>17</th>\n",
              "      <th>18</th>\n",
              "      <th>19</th>\n",
              "      <th>20</th>\n",
              "      <th>21</th>\n",
              "      <th>22</th>\n",
              "      <th>23</th>\n",
              "      <th>24</th>\n",
              "      <th>25</th>\n",
              "      <th>26</th>\n",
              "      <th>27</th>\n",
              "    </tr>\n",
              "  </thead>\n",
              "  <tbody>\n",
              "    <tr>\n",
              "      <th>0</th>\n",
              "      <td>0.0466</td>\n",
              "      <td>0.0474</td>\n",
              "      <td>0.0485</td>\n",
              "      <td>0.0493</td>\n",
              "      <td>0.0488</td>\n",
              "      <td>0.0493</td>\n",
              "      <td>0.0499</td>\n",
              "      <td>0.0506</td>\n",
              "      <td>0.0513</td>\n",
              "      <td>0.0517</td>\n",
              "      <td>0.0515</td>\n",
              "      <td>0.0486</td>\n",
              "      <td>0.0451</td>\n",
              "      <td>0.0426</td>\n",
              "      <td>0.0425</td>\n",
              "      <td>0.0435</td>\n",
              "      <td>0.0455</td>\n",
              "      <td>0.0473</td>\n",
              "      <td>0.0482</td>\n",
              "      <td>0.0490</td>\n",
              "      <td>0.0513</td>\n",
              "      <td>0.0538</td>\n",
              "      <td>0.0559</td>\n",
              "      <td>0.0575</td>\n",
              "      <td>0.0569</td>\n",
              "      <td>0.0563</td>\n",
              "      <td>0.0556</td>\n",
              "      <td>0.0570</td>\n",
              "    </tr>\n",
              "  </tbody>\n",
              "</table>\n",
              "</div>"
            ],
            "text/plain": [
              "      0      1      2      3      4   ...     23     24     25     26     27\n",
              "0 0.0466 0.0474 0.0485 0.0493 0.0488  ... 0.0575 0.0569 0.0563 0.0556 0.0570\n",
              "\n",
              "[1 rows x 28 columns]"
            ]
          },
          "metadata": {
            "tags": []
          },
          "execution_count": 62
        }
      ]
    },
    {
      "cell_type": "code",
      "metadata": {
        "colab": {
          "base_uri": "https://localhost:8080/",
          "height": 268
        },
        "id": "SShVmn3fsFWZ",
        "outputId": "b0dac794-f2a3-4e42-b1d6-4f3d99d91098"
      },
      "source": [
        ""
      ],
      "execution_count": 63,
      "outputs": [
        {
          "output_type": "display_data",
          "data": {
            "image/png": "[encoded data removed]",
            "text/plain": [
              "<Figure size 432x288 with 1 Axes>"
            ]
          },
          "metadata": {
            "tags": []
          }
        }
      ]
    },
    {
      "cell_type": "code",
      "metadata": {
        "id": "EXzCxhSnct2P"
      },
      "source": [
        ""
      ],
      "execution_count": 32,
      "outputs": []
    },
    {
      "cell_type": "code",
      "metadata": {
        "id": "RRIwUZo4ct5U"
      },
      "source": [
        ""
      ],
      "execution_count": 32,
      "outputs": []
    },
    {
      "cell_type": "code",
      "metadata": {
        "id": "zuGOD08Cct8E"
      },
      "source": [
        ""
      ],
      "execution_count": 32,
      "outputs": []
    },
    {
      "cell_type": "code",
      "metadata": {
        "id": "MYuy4c2ddMPU"
      },
      "source": [
        ""
      ],
      "execution_count": 32,
      "outputs": []
    },
    {
      "cell_type": "code",
      "metadata": {
        "id": "HGC9b2VDc_vb"
      },
      "source": [
        ""
      ],
      "execution_count": 32,
      "outputs": []
    },
    {
      "cell_type": "code",
      "metadata": {
        "id": "wTlK7b5-c_yS"
      },
      "source": [
        ""
      ],
      "execution_count": 32,
      "outputs": []
    },
    {
      "cell_type": "code",
      "metadata": {
        "id": "2Q-76k3oc_1B"
      },
      "source": [
        ""
      ],
      "execution_count": 32,
      "outputs": []
    },
    {
      "cell_type": "code",
      "metadata": {
        "id": "hSOsrxBzc_3n"
      },
      "source": [
        ""
      ],
      "execution_count": 32,
      "outputs": []
    },
    {
      "cell_type": "code",
      "metadata": {
        "id": "e_UBKMUnct_a"
      },
      "source": [
        ""
      ],
      "execution_count": 32,
      "outputs": []
    }
  ]
}