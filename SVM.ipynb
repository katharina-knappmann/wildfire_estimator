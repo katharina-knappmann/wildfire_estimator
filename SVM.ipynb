{
  "nbformat": 4,
  "nbformat_minor": 0,
  "metadata": {
    "kernelspec": {
      "name": "python3",
      "display_name": "Python 3"
    },
    "colab": {
      "name": "SVM.ipynb",
      "provenance": [],
      "collapsed_sections": [],
      "include_colab_link": true
    }
  },
  "cells": [
    {
      "cell_type": "markdown",
      "metadata": {
        "id": "view-in-github",
        "colab_type": "text"
      },
      "source": [
        "<a href=\"https://colab.research.google.com/github/knattarina/wildfire_challenge/blob/main/SVM.ipynb\" target=\"_parent\"><img src=\"https://colab.research.google.com/assets/colab-badge.svg\" alt=\"Open In Colab\"/></a>"
      ]
    },
    {
      "cell_type": "code",
      "metadata": {
        "id": "NIZbDkz-dC6J"
      },
      "source": [
        "%matplotlib inline\n",
        "import matplotlib.pyplot as plt\n",
        "import tensorflow as tf\n",
        "import numpy as np\n",
        "import pandas as pd\n",
        "import os\n",
        "\n",
        "from sklearn.preprocessing import MinMaxScaler\n",
        "from google.colab import drive\n",
        "from tensorflow.keras.models import Sequential\n",
        "from tensorflow.keras.layers import Input, Dense, GRU, Embedding\n",
        "from tensorflow.keras.optimizers import RMSprop\n",
        "from tensorflow.keras.callbacks import EarlyStopping, ModelCheckpoint, TensorBoard, ReduceLROnPlateau\n",
        "from tensorflow.keras.backend import square, mean\n",
        "\n",
        "TEST_DATA_SIZE = 90"
      ],
      "execution_count": 1,
      "outputs": []
    },
    {
      "cell_type": "code",
      "metadata": {
        "colab": {
          "base_uri": "https://localhost:8080/"
        },
        "id": "iVzy9D46e0sa",
        "outputId": "5b3b6830-ac8f-4f93-8ffa-7d00d258cd19"
      },
      "source": [
        "drive.mount('/content/drive')\r\n",
        "os.chdir('/content/drive/My Drive/Wildfire_Challenge/Data')"
      ],
      "execution_count": 2,
      "outputs": [
        {
          "output_type": "stream",
          "text": [
            "Mounted at /content/drive\n"
          ],
          "name": "stdout"
        }
      ]
    },
    {
      "cell_type": "code",
      "metadata": {
        "id": "d8oqlgT1fPW4"
      },
      "source": [
        "##### IMPORT DATA #####\r\n",
        "\r\n",
        "forecasts_df = pd.read_csv('Cleansed_Forecasts.csv')\r\n",
        "df = pd.read_csv('Cleansed_Data.csv')\r\n",
        "\r\n",
        "forecasts_df['Date'] = pd.to_datetime(forecasts_df['Date'])\r\n",
        "df['Date'] = pd.to_datetime(df['Date'])"
      ],
      "execution_count": 3,
      "outputs": []
    },
    {
      "cell_type": "code",
      "metadata": {
        "id": "9LCnGUNKdC6e",
        "colab": {
          "base_uri": "https://localhost:8080/",
          "height": 513
        },
        "outputId": "f7717676-1e46-4366-d991-3fe6c11106b8"
      },
      "source": [
        "columns = ['Date', 'Region', 'Mean_estimated_fire_brightness', 'Mean_estimated_fire_radiative_power',\t'Mean_confidence']\r\n",
        "\r\n",
        "df_region = df[df['Region'] == 'QL'].copy()\r\n",
        "df_region.drop(columns = ['Date', 'Region'], inplace = True)\r\n",
        "df_region"
      ],
      "execution_count": 4,
      "outputs": [
        {
          "output_type": "execute_result",
          "data": {
            "text/html": [
              "<div>\n",
              "<style scoped>\n",
              "    .dataframe tbody tr th:only-of-type {\n",
              "        vertical-align: middle;\n",
              "    }\n",
              "\n",
              "    .dataframe tbody tr th {\n",
              "        vertical-align: top;\n",
              "    }\n",
              "\n",
              "    .dataframe thead th {\n",
              "        text-align: right;\n",
              "    }\n",
              "</style>\n",
              "<table border=\"1\" class=\"dataframe\">\n",
              "  <thead>\n",
              "    <tr style=\"text-align: right;\">\n",
              "      <th></th>\n",
              "      <th>Estimated_fire_area</th>\n",
              "      <th>Mean_estimated_fire_brightness</th>\n",
              "      <th>Mean_estimated_fire_radiative_power</th>\n",
              "      <th>Mean_confidence</th>\n",
              "      <th>Precipitation_Max</th>\n",
              "      <th>Precipitation_Mean</th>\n",
              "      <th>Precipitation_Min</th>\n",
              "      <th>Precipitation_Variance</th>\n",
              "      <th>RelativeHumidity_Max</th>\n",
              "      <th>RelativeHumidity_Mean</th>\n",
              "      <th>RelativeHumidity_Min</th>\n",
              "      <th>RelativeHumidity_Variance</th>\n",
              "      <th>SoilWaterContent_Max</th>\n",
              "      <th>SoilWaterContent_Mean</th>\n",
              "      <th>SoilWaterContent_Min</th>\n",
              "      <th>SoilWaterContent_Variance</th>\n",
              "      <th>SolarRadiation_Max</th>\n",
              "      <th>SolarRadiation_Mean</th>\n",
              "      <th>SolarRadiation_Min</th>\n",
              "      <th>SolarRadiation_Variance</th>\n",
              "      <th>Temperature_Max</th>\n",
              "      <th>Temperature_Mean</th>\n",
              "      <th>Temperature_Min</th>\n",
              "      <th>Temperature_Variance</th>\n",
              "      <th>WindSpeed_Max</th>\n",
              "      <th>WindSpeed_Mean</th>\n",
              "      <th>WindSpeed_Min</th>\n",
              "      <th>WindSpeed_Variance</th>\n",
              "      <th>Month</th>\n",
              "      <th>Year</th>\n",
              "      <th>Shrubs</th>\n",
              "      <th>Herbaceous vegetation</th>\n",
              "      <th>Cultivated and managed vegetation/agriculture (cropland)</th>\n",
              "      <th>Urban / built up</th>\n",
              "      <th>Bare / sparse vegetation</th>\n",
              "      <th>Permanent water bodies</th>\n",
              "      <th>Herbaceous wetland</th>\n",
              "      <th>Closed forest, evergreen, broad leaf</th>\n",
              "      <th>Closed forest, deciduous broad leaf</th>\n",
              "      <th>Closed forest, unknown</th>\n",
              "      <th>Open forest, evergreen broad leaf</th>\n",
              "      <th>Open forest, deciduous broad leaf</th>\n",
              "      <th>Open forest, unknown definitions</th>\n",
              "      <th>Open sea</th>\n",
              "      <th>count()[unit: km^2]</th>\n",
              "    </tr>\n",
              "  </thead>\n",
              "  <tbody>\n",
              "    <tr>\n",
              "      <th>11563</th>\n",
              "      <td>38.831579</td>\n",
              "      <td>322.197368</td>\n",
              "      <td>45.757895</td>\n",
              "      <td>83.315789</td>\n",
              "      <td>74.452164</td>\n",
              "      <td>1.453053</td>\n",
              "      <td>0.0</td>\n",
              "      <td>35.641257</td>\n",
              "      <td>95.898270</td>\n",
              "      <td>47.959364</td>\n",
              "      <td>14.443199</td>\n",
              "      <td>403.134377</td>\n",
              "      <td>0.472416</td>\n",
              "      <td>0.185641</td>\n",
              "      <td>0.000000e+00</td>\n",
              "      <td>0.012679</td>\n",
              "      <td>31.982830</td>\n",
              "      <td>27.056979</td>\n",
              "      <td>6.033827</td>\n",
              "      <td>29.500832</td>\n",
              "      <td>37.047943</td>\n",
              "      <td>28.842866</td>\n",
              "      <td>20.951620</td>\n",
              "      <td>13.792599</td>\n",
              "      <td>7.675632</td>\n",
              "      <td>3.483753</td>\n",
              "      <td>1.106028</td>\n",
              "      <td>0.883048</td>\n",
              "      <td>1</td>\n",
              "      <td>2005</td>\n",
              "      <td>9.5</td>\n",
              "      <td>45.3</td>\n",
              "      <td>1.6</td>\n",
              "      <td>0.1</td>\n",
              "      <td>1.1</td>\n",
              "      <td>0.1</td>\n",
              "      <td>0.0</td>\n",
              "      <td>5.3</td>\n",
              "      <td>13.3</td>\n",
              "      <td>0.3</td>\n",
              "      <td>0.1</td>\n",
              "      <td>12.0</td>\n",
              "      <td>11.0</td>\n",
              "      <td>0.3</td>\n",
              "      <td>1.730605e+06</td>\n",
              "    </tr>\n",
              "    <tr>\n",
              "      <th>11564</th>\n",
              "      <td>64.464286</td>\n",
              "      <td>315.991071</td>\n",
              "      <td>58.492857</td>\n",
              "      <td>86.785714</td>\n",
              "      <td>87.775497</td>\n",
              "      <td>1.544607</td>\n",
              "      <td>0.0</td>\n",
              "      <td>36.370861</td>\n",
              "      <td>95.837463</td>\n",
              "      <td>48.593844</td>\n",
              "      <td>19.908998</td>\n",
              "      <td>418.233850</td>\n",
              "      <td>0.477548</td>\n",
              "      <td>0.177612</td>\n",
              "      <td>0.000000e+00</td>\n",
              "      <td>0.011915</td>\n",
              "      <td>31.729107</td>\n",
              "      <td>26.276294</td>\n",
              "      <td>4.372402</td>\n",
              "      <td>27.100196</td>\n",
              "      <td>35.675449</td>\n",
              "      <td>29.416449</td>\n",
              "      <td>21.426340</td>\n",
              "      <td>10.519515</td>\n",
              "      <td>7.094274</td>\n",
              "      <td>3.145954</td>\n",
              "      <td>0.900613</td>\n",
              "      <td>0.951232</td>\n",
              "      <td>1</td>\n",
              "      <td>2005</td>\n",
              "      <td>9.5</td>\n",
              "      <td>45.3</td>\n",
              "      <td>1.6</td>\n",
              "      <td>0.1</td>\n",
              "      <td>1.1</td>\n",
              "      <td>0.1</td>\n",
              "      <td>0.0</td>\n",
              "      <td>5.3</td>\n",
              "      <td>13.3</td>\n",
              "      <td>0.3</td>\n",
              "      <td>0.1</td>\n",
              "      <td>12.0</td>\n",
              "      <td>11.0</td>\n",
              "      <td>0.3</td>\n",
              "      <td>1.730605e+06</td>\n",
              "    </tr>\n",
              "    <tr>\n",
              "      <th>11565</th>\n",
              "      <td>47.386585</td>\n",
              "      <td>333.092683</td>\n",
              "      <td>69.860976</td>\n",
              "      <td>88.634146</td>\n",
              "      <td>55.630913</td>\n",
              "      <td>3.307646</td>\n",
              "      <td>0.0</td>\n",
              "      <td>55.229505</td>\n",
              "      <td>97.793060</td>\n",
              "      <td>54.993082</td>\n",
              "      <td>23.762615</td>\n",
              "      <td>321.556066</td>\n",
              "      <td>0.474464</td>\n",
              "      <td>0.180547</td>\n",
              "      <td>0.000000e+00</td>\n",
              "      <td>0.009789</td>\n",
              "      <td>31.707254</td>\n",
              "      <td>25.261123</td>\n",
              "      <td>3.596726</td>\n",
              "      <td>20.015944</td>\n",
              "      <td>35.998322</td>\n",
              "      <td>29.837556</td>\n",
              "      <td>23.180372</td>\n",
              "      <td>7.215216</td>\n",
              "      <td>7.156260</td>\n",
              "      <td>3.376279</td>\n",
              "      <td>0.678431</td>\n",
              "      <td>1.197812</td>\n",
              "      <td>1</td>\n",
              "      <td>2005</td>\n",
              "      <td>9.5</td>\n",
              "      <td>45.3</td>\n",
              "      <td>1.6</td>\n",
              "      <td>0.1</td>\n",
              "      <td>1.1</td>\n",
              "      <td>0.1</td>\n",
              "      <td>0.0</td>\n",
              "      <td>5.3</td>\n",
              "      <td>13.3</td>\n",
              "      <td>0.3</td>\n",
              "      <td>0.1</td>\n",
              "      <td>12.0</td>\n",
              "      <td>11.0</td>\n",
              "      <td>0.3</td>\n",
              "      <td>1.730605e+06</td>\n",
              "    </tr>\n",
              "    <tr>\n",
              "      <th>11566</th>\n",
              "      <td>30.100000</td>\n",
              "      <td>315.216667</td>\n",
              "      <td>31.395833</td>\n",
              "      <td>89.458333</td>\n",
              "      <td>73.792183</td>\n",
              "      <td>7.174250</td>\n",
              "      <td>0.0</td>\n",
              "      <td>115.028624</td>\n",
              "      <td>96.219215</td>\n",
              "      <td>68.853479</td>\n",
              "      <td>32.426708</td>\n",
              "      <td>158.471173</td>\n",
              "      <td>0.490053</td>\n",
              "      <td>0.221695</td>\n",
              "      <td>4.041164e-07</td>\n",
              "      <td>0.010189</td>\n",
              "      <td>30.015615</td>\n",
              "      <td>19.133625</td>\n",
              "      <td>5.608485</td>\n",
              "      <td>29.837734</td>\n",
              "      <td>31.970034</td>\n",
              "      <td>27.344346</td>\n",
              "      <td>23.165539</td>\n",
              "      <td>3.151807</td>\n",
              "      <td>9.109385</td>\n",
              "      <td>3.087130</td>\n",
              "      <td>0.907614</td>\n",
              "      <td>1.030539</td>\n",
              "      <td>1</td>\n",
              "      <td>2005</td>\n",
              "      <td>9.5</td>\n",
              "      <td>45.3</td>\n",
              "      <td>1.6</td>\n",
              "      <td>0.1</td>\n",
              "      <td>1.1</td>\n",
              "      <td>0.1</td>\n",
              "      <td>0.0</td>\n",
              "      <td>5.3</td>\n",
              "      <td>13.3</td>\n",
              "      <td>0.3</td>\n",
              "      <td>0.1</td>\n",
              "      <td>12.0</td>\n",
              "      <td>11.0</td>\n",
              "      <td>0.3</td>\n",
              "      <td>1.730605e+06</td>\n",
              "    </tr>\n",
              "    <tr>\n",
              "      <th>11567</th>\n",
              "      <td>4.000000</td>\n",
              "      <td>326.412500</td>\n",
              "      <td>58.150000</td>\n",
              "      <td>85.750000</td>\n",
              "      <td>94.064049</td>\n",
              "      <td>11.410645</td>\n",
              "      <td>0.0</td>\n",
              "      <td>246.249524</td>\n",
              "      <td>92.610512</td>\n",
              "      <td>69.268049</td>\n",
              "      <td>20.808424</td>\n",
              "      <td>354.098274</td>\n",
              "      <td>0.511396</td>\n",
              "      <td>0.259284</td>\n",
              "      <td>8.472707e-07</td>\n",
              "      <td>0.014463</td>\n",
              "      <td>32.637787</td>\n",
              "      <td>17.328773</td>\n",
              "      <td>5.111666</td>\n",
              "      <td>43.214968</td>\n",
              "      <td>31.534004</td>\n",
              "      <td>26.426117</td>\n",
              "      <td>18.141447</td>\n",
              "      <td>7.098645</td>\n",
              "      <td>8.062080</td>\n",
              "      <td>3.159938</td>\n",
              "      <td>1.122996</td>\n",
              "      <td>1.365404</td>\n",
              "      <td>1</td>\n",
              "      <td>2005</td>\n",
              "      <td>9.5</td>\n",
              "      <td>45.3</td>\n",
              "      <td>1.6</td>\n",
              "      <td>0.1</td>\n",
              "      <td>1.1</td>\n",
              "      <td>0.1</td>\n",
              "      <td>0.0</td>\n",
              "      <td>5.3</td>\n",
              "      <td>13.3</td>\n",
              "      <td>0.3</td>\n",
              "      <td>0.1</td>\n",
              "      <td>12.0</td>\n",
              "      <td>11.0</td>\n",
              "      <td>0.3</td>\n",
              "      <td>1.730605e+06</td>\n",
              "    </tr>\n",
              "    <tr>\n",
              "      <th>...</th>\n",
              "      <td>...</td>\n",
              "      <td>...</td>\n",
              "      <td>...</td>\n",
              "      <td>...</td>\n",
              "      <td>...</td>\n",
              "      <td>...</td>\n",
              "      <td>...</td>\n",
              "      <td>...</td>\n",
              "      <td>...</td>\n",
              "      <td>...</td>\n",
              "      <td>...</td>\n",
              "      <td>...</td>\n",
              "      <td>...</td>\n",
              "      <td>...</td>\n",
              "      <td>...</td>\n",
              "      <td>...</td>\n",
              "      <td>...</td>\n",
              "      <td>...</td>\n",
              "      <td>...</td>\n",
              "      <td>...</td>\n",
              "      <td>...</td>\n",
              "      <td>...</td>\n",
              "      <td>...</td>\n",
              "      <td>...</td>\n",
              "      <td>...</td>\n",
              "      <td>...</td>\n",
              "      <td>...</td>\n",
              "      <td>...</td>\n",
              "      <td>...</td>\n",
              "      <td>...</td>\n",
              "      <td>...</td>\n",
              "      <td>...</td>\n",
              "      <td>...</td>\n",
              "      <td>...</td>\n",
              "      <td>...</td>\n",
              "      <td>...</td>\n",
              "      <td>...</td>\n",
              "      <td>...</td>\n",
              "      <td>...</td>\n",
              "      <td>...</td>\n",
              "      <td>...</td>\n",
              "      <td>...</td>\n",
              "      <td>...</td>\n",
              "      <td>...</td>\n",
              "      <td>...</td>\n",
              "    </tr>\n",
              "    <tr>\n",
              "      <th>17341</th>\n",
              "      <td>78.670769</td>\n",
              "      <td>322.305385</td>\n",
              "      <td>41.896923</td>\n",
              "      <td>87.800000</td>\n",
              "      <td>44.983952</td>\n",
              "      <td>1.769690</td>\n",
              "      <td>0.0</td>\n",
              "      <td>26.448536</td>\n",
              "      <td>93.493095</td>\n",
              "      <td>41.505174</td>\n",
              "      <td>14.769243</td>\n",
              "      <td>516.251343</td>\n",
              "      <td>0.475812</td>\n",
              "      <td>0.172762</td>\n",
              "      <td>2.327530e-07</td>\n",
              "      <td>0.009995</td>\n",
              "      <td>30.676556</td>\n",
              "      <td>25.084729</td>\n",
              "      <td>8.896174</td>\n",
              "      <td>24.536368</td>\n",
              "      <td>31.110630</td>\n",
              "      <td>23.244205</td>\n",
              "      <td>15.386983</td>\n",
              "      <td>11.972870</td>\n",
              "      <td>6.870927</td>\n",
              "      <td>2.858941</td>\n",
              "      <td>0.507665</td>\n",
              "      <td>0.656063</td>\n",
              "      <td>10</td>\n",
              "      <td>2020</td>\n",
              "      <td>9.5</td>\n",
              "      <td>45.3</td>\n",
              "      <td>1.6</td>\n",
              "      <td>0.1</td>\n",
              "      <td>1.1</td>\n",
              "      <td>0.1</td>\n",
              "      <td>0.0</td>\n",
              "      <td>5.3</td>\n",
              "      <td>13.3</td>\n",
              "      <td>0.3</td>\n",
              "      <td>0.1</td>\n",
              "      <td>12.0</td>\n",
              "      <td>11.0</td>\n",
              "      <td>0.3</td>\n",
              "      <td>1.730605e+06</td>\n",
              "    </tr>\n",
              "    <tr>\n",
              "      <th>17342</th>\n",
              "      <td>119.608649</td>\n",
              "      <td>320.891892</td>\n",
              "      <td>209.929730</td>\n",
              "      <td>87.351351</td>\n",
              "      <td>53.570747</td>\n",
              "      <td>1.598588</td>\n",
              "      <td>0.0</td>\n",
              "      <td>27.491621</td>\n",
              "      <td>88.812210</td>\n",
              "      <td>34.364756</td>\n",
              "      <td>9.392016</td>\n",
              "      <td>519.339361</td>\n",
              "      <td>0.473505</td>\n",
              "      <td>0.165709</td>\n",
              "      <td>0.000000e+00</td>\n",
              "      <td>0.010422</td>\n",
              "      <td>31.352774</td>\n",
              "      <td>28.033695</td>\n",
              "      <td>16.663504</td>\n",
              "      <td>10.204895</td>\n",
              "      <td>31.255157</td>\n",
              "      <td>23.345542</td>\n",
              "      <td>15.299400</td>\n",
              "      <td>9.130294</td>\n",
              "      <td>5.969506</td>\n",
              "      <td>3.272644</td>\n",
              "      <td>0.894660</td>\n",
              "      <td>0.684547</td>\n",
              "      <td>10</td>\n",
              "      <td>2020</td>\n",
              "      <td>9.5</td>\n",
              "      <td>45.3</td>\n",
              "      <td>1.6</td>\n",
              "      <td>0.1</td>\n",
              "      <td>1.1</td>\n",
              "      <td>0.1</td>\n",
              "      <td>0.0</td>\n",
              "      <td>5.3</td>\n",
              "      <td>13.3</td>\n",
              "      <td>0.3</td>\n",
              "      <td>0.1</td>\n",
              "      <td>12.0</td>\n",
              "      <td>11.0</td>\n",
              "      <td>0.3</td>\n",
              "      <td>1.730605e+06</td>\n",
              "    </tr>\n",
              "    <tr>\n",
              "      <th>17343</th>\n",
              "      <td>249.090625</td>\n",
              "      <td>327.207552</td>\n",
              "      <td>56.365104</td>\n",
              "      <td>88.010417</td>\n",
              "      <td>10.742613</td>\n",
              "      <td>0.076241</td>\n",
              "      <td>0.0</td>\n",
              "      <td>0.283345</td>\n",
              "      <td>85.109924</td>\n",
              "      <td>30.359122</td>\n",
              "      <td>9.449774</td>\n",
              "      <td>313.025023</td>\n",
              "      <td>0.432511</td>\n",
              "      <td>0.155046</td>\n",
              "      <td>0.000000e+00</td>\n",
              "      <td>0.008578</td>\n",
              "      <td>31.411791</td>\n",
              "      <td>29.804340</td>\n",
              "      <td>21.400858</td>\n",
              "      <td>2.610120</td>\n",
              "      <td>30.942204</td>\n",
              "      <td>24.280550</td>\n",
              "      <td>15.277708</td>\n",
              "      <td>6.382612</td>\n",
              "      <td>7.196375</td>\n",
              "      <td>2.929369</td>\n",
              "      <td>0.777750</td>\n",
              "      <td>0.845396</td>\n",
              "      <td>10</td>\n",
              "      <td>2020</td>\n",
              "      <td>9.5</td>\n",
              "      <td>45.3</td>\n",
              "      <td>1.6</td>\n",
              "      <td>0.1</td>\n",
              "      <td>1.1</td>\n",
              "      <td>0.1</td>\n",
              "      <td>0.0</td>\n",
              "      <td>5.3</td>\n",
              "      <td>13.3</td>\n",
              "      <td>0.3</td>\n",
              "      <td>0.1</td>\n",
              "      <td>12.0</td>\n",
              "      <td>11.0</td>\n",
              "      <td>0.3</td>\n",
              "      <td>1.730605e+06</td>\n",
              "    </tr>\n",
              "    <tr>\n",
              "      <th>17344</th>\n",
              "      <td>282.538983</td>\n",
              "      <td>324.786017</td>\n",
              "      <td>95.176271</td>\n",
              "      <td>87.186441</td>\n",
              "      <td>9.947227</td>\n",
              "      <td>0.131547</td>\n",
              "      <td>0.0</td>\n",
              "      <td>0.372645</td>\n",
              "      <td>86.689865</td>\n",
              "      <td>33.598036</td>\n",
              "      <td>9.482860</td>\n",
              "      <td>312.224190</td>\n",
              "      <td>0.406448</td>\n",
              "      <td>0.146482</td>\n",
              "      <td>0.000000e+00</td>\n",
              "      <td>0.007119</td>\n",
              "      <td>31.085230</td>\n",
              "      <td>29.096387</td>\n",
              "      <td>21.849873</td>\n",
              "      <td>2.526977</td>\n",
              "      <td>32.182133</td>\n",
              "      <td>25.508412</td>\n",
              "      <td>18.649193</td>\n",
              "      <td>9.681245</td>\n",
              "      <td>8.506594</td>\n",
              "      <td>4.199536</td>\n",
              "      <td>1.414145</td>\n",
              "      <td>1.608405</td>\n",
              "      <td>10</td>\n",
              "      <td>2020</td>\n",
              "      <td>9.5</td>\n",
              "      <td>45.3</td>\n",
              "      <td>1.6</td>\n",
              "      <td>0.1</td>\n",
              "      <td>1.1</td>\n",
              "      <td>0.1</td>\n",
              "      <td>0.0</td>\n",
              "      <td>5.3</td>\n",
              "      <td>13.3</td>\n",
              "      <td>0.3</td>\n",
              "      <td>0.1</td>\n",
              "      <td>12.0</td>\n",
              "      <td>11.0</td>\n",
              "      <td>0.3</td>\n",
              "      <td>1.730605e+06</td>\n",
              "    </tr>\n",
              "    <tr>\n",
              "      <th>17345</th>\n",
              "      <td>297.627826</td>\n",
              "      <td>321.767150</td>\n",
              "      <td>61.613043</td>\n",
              "      <td>90.642512</td>\n",
              "      <td>26.366877</td>\n",
              "      <td>0.386800</td>\n",
              "      <td>0.0</td>\n",
              "      <td>4.229566</td>\n",
              "      <td>87.803581</td>\n",
              "      <td>35.829668</td>\n",
              "      <td>12.749949</td>\n",
              "      <td>316.368911</td>\n",
              "      <td>0.442840</td>\n",
              "      <td>0.141467</td>\n",
              "      <td>0.000000e+00</td>\n",
              "      <td>0.006935</td>\n",
              "      <td>30.670065</td>\n",
              "      <td>28.745128</td>\n",
              "      <td>19.898029</td>\n",
              "      <td>4.796284</td>\n",
              "      <td>32.112972</td>\n",
              "      <td>24.777835</td>\n",
              "      <td>17.249844</td>\n",
              "      <td>8.811943</td>\n",
              "      <td>7.643718</td>\n",
              "      <td>3.137745</td>\n",
              "      <td>1.180556</td>\n",
              "      <td>0.549077</td>\n",
              "      <td>10</td>\n",
              "      <td>2020</td>\n",
              "      <td>9.5</td>\n",
              "      <td>45.3</td>\n",
              "      <td>1.6</td>\n",
              "      <td>0.1</td>\n",
              "      <td>1.1</td>\n",
              "      <td>0.1</td>\n",
              "      <td>0.0</td>\n",
              "      <td>5.3</td>\n",
              "      <td>13.3</td>\n",
              "      <td>0.3</td>\n",
              "      <td>0.1</td>\n",
              "      <td>12.0</td>\n",
              "      <td>11.0</td>\n",
              "      <td>0.3</td>\n",
              "      <td>1.730605e+06</td>\n",
              "    </tr>\n",
              "  </tbody>\n",
              "</table>\n",
              "<p>5783 rows × 45 columns</p>\n",
              "</div>"
            ],
            "text/plain": [
              "       Estimated_fire_area  ...  count()[unit: km^2]\n",
              "11563            38.831579  ...         1.730605e+06\n",
              "11564            64.464286  ...         1.730605e+06\n",
              "11565            47.386585  ...         1.730605e+06\n",
              "11566            30.100000  ...         1.730605e+06\n",
              "11567             4.000000  ...         1.730605e+06\n",
              "...                    ...  ...                  ...\n",
              "17341            78.670769  ...         1.730605e+06\n",
              "17342           119.608649  ...         1.730605e+06\n",
              "17343           249.090625  ...         1.730605e+06\n",
              "17344           282.538983  ...         1.730605e+06\n",
              "17345           297.627826  ...         1.730605e+06\n",
              "\n",
              "[5783 rows x 45 columns]"
            ]
          },
          "metadata": {
            "tags": []
          },
          "execution_count": 4
        }
      ]
    },
    {
      "cell_type": "code",
      "metadata": {
        "colab": {
          "base_uri": "https://localhost:8080/",
          "height": 137
        },
        "id": "RRbFTZuuvZM_",
        "outputId": "d5ede653-bee4-4913-afdc-c5053813da1b"
      },
      "source": [
        "# prepare sample data in the form of data frame with cols of timesteps (x) and values (y)  \r\n",
        "data(AirPassengers) \r\n",
        "monthly_data <- unclass(AirPassengers)\r\n",
        "months <- 1:144\r\n",
        "DF <- data.frame(months,monthly_data)\r\n",
        "colnames(DF)<-c(\"x\",\"y\")\r\n",
        "\r\n",
        "# train an svm model, consider further tuning parameters for lower MSE\r\n",
        "svmodel <- svm(y ~ x,data=DF, type=\"eps-regression\",kernel=\"radial\",cost=10000, gamma=10)\r\n",
        "#specify timesteps for forecast, eg for all series + 12 months ahead\r\n",
        "nd <- 1:156\r\n",
        "#compute forecast for all the 156 months \r\n",
        "prognoza <- predict(svmodel, newdata=data.frame(x=nd))\r\n",
        "\r\n",
        "#plot the results\r\n",
        "ylim <- c(min(DF$y), max(DF$y))\r\n",
        "xlim <- c(min(nd),max(nd))\r\n",
        "plot(DF$y, col=\"blue\", ylim=ylim, xlim=xlim, type=\"l\")\r\n",
        "par(new=TRUE)\r\n",
        "plot(prognoza, col=\"red\", ylim=ylim, xlim=xlim)"
      ],
      "execution_count": 5,
      "outputs": [
        {
          "output_type": "error",
          "ename": "SyntaxError",
          "evalue": "ignored",
          "traceback": [
            "\u001b[0;36m  File \u001b[0;32m\"<ipython-input-5-177030f84c9e>\"\u001b[0;36m, line \u001b[0;32m9\u001b[0m\n\u001b[0;31m    svmodel <- svm(y ~ x,data=DF, type=\"eps-regression\",kernel=\"radial\",cost=10000, gamma=10)\u001b[0m\n\u001b[0m                     ^\u001b[0m\n\u001b[0;31mSyntaxError\u001b[0m\u001b[0;31m:\u001b[0m invalid syntax\n"
          ]
        }
      ]
    },
    {
      "cell_type": "code",
      "metadata": {
        "id": "sftvfVu6xC1k"
      },
      "source": [
        "from sklearn.svm import SVR\r\n",
        "from sklearn.pipeline import make_pipeline\r\n",
        "from sklearn.preprocessing import StandardScaler\r\n",
        "import numpy as np\r\n",
        "n_samples, n_features = 10, 5\r\n",
        "rng = np.random.RandomState(0)\r\n",
        "y = rng.randn(n_samples)\r\n",
        "X = rng.randn(n_samples, n_features)\r\n",
        "regr = make_pipeline(StandardScaler(), SVR(C=1.0, epsilon=0.2))\r\n",
        "regr.fit(X, y)\r\n",
        "Pipeline(steps=[('standardscaler', StandardScaler()), ('svr', SVR(epsilon=0.2))])"
      ],
      "execution_count": null,
      "outputs": []
    },
    {
      "cell_type": "code",
      "metadata": {
        "id": "uQV18MSMxLE3"
      },
      "source": [
        "print(__doc__)\r\n",
        "\r\n",
        "import numpy as np\r\n",
        "from sklearn.svm import SVR\r\n",
        "import matplotlib.pyplot as plt\r\n",
        "\r\n",
        "# #############################################################################\r\n",
        "# Generate sample data\r\n",
        "X = np.arange(len(df))#.reshape(1, -1)#np.sort(5 * np.random.rand(40, 1), axis=0)10000*df[\"Date\"].dt.year + 100*df[\"Date\"].dt.month + df[\"Date\"].dt.day #\r\n",
        "y = df_region['count()[unit: km^2]'] #np.sin(X).ravel()#\r\n",
        "# #############################################################################\r\n",
        "# Add noise to targets\r\n",
        "#y[::5] += 3 * (0.5 - np.random.rand(8))\r\n",
        "\r\n",
        "# #############################################################################\r\n",
        "# Fit regression model\r\n",
        "svr_rbf = SVR(kernel='rbf', C=1e3, gamma=0.1)\r\n",
        "svr_lin = SVR(kernel='linear', C=1e3)\r\n",
        "svr_poly = SVR(kernel='poly', C=1e3, degree=2)\r\n",
        "y_rbf = svr_rbf.fit(X, y).predict(X)\r\n",
        "y_lin = svr_lin.fit(X, y).predict(X)\r\n",
        "y_poly = svr_poly.fit(X, y).predict(X)\r\n",
        "\r\n",
        "# #############################################################################\r\n",
        "# Look at the results\r\n",
        "lw = 2\r\n",
        "plt.scatter(X, y, color='darkorange', label='data')\r\n",
        "plt.plot(X, y_rbf, color='navy', lw=lw, label='RBF model')\r\n",
        "plt.plot(X, y_lin, color='c', lw=lw, label='Linear model')\r\n",
        "plt.plot(X, y_poly, color='cornflowerblue', lw=lw, label='Polynomial model')\r\n",
        "plt.xlabel('data')\r\n",
        "plt.ylabel('target')\r\n",
        "plt.title('Support Vector Regression')\r\n",
        "plt.legend()\r\n",
        "plt.show()"
      ],
      "execution_count": null,
      "outputs": []
    },
    {
      "cell_type": "code",
      "metadata": {
        "id": "q4h9lHuHdC6f"
      },
      "source": [
        ""
      ],
      "execution_count": null,
      "outputs": []
    },
    {
      "cell_type": "code",
      "metadata": {
        "id": "uwshLZNjdC6g"
      },
      "source": [
        ""
      ],
      "execution_count": null,
      "outputs": []
    },
    {
      "cell_type": "code",
      "metadata": {
        "id": "qUytNN9mdC6g"
      },
      "source": [
        ""
      ],
      "execution_count": null,
      "outputs": []
    },
    {
      "cell_type": "code",
      "metadata": {
        "id": "MIjHUgj85526"
      },
      "source": [
        ""
      ],
      "execution_count": null,
      "outputs": []
    },
    {
      "cell_type": "code",
      "metadata": {
        "id": "XKcijI3fdC6i"
      },
      "source": [
        ""
      ],
      "execution_count": null,
      "outputs": []
    },
    {
      "cell_type": "code",
      "metadata": {
        "id": "s8nxtr8udC6j"
      },
      "source": [
        ""
      ],
      "execution_count": null,
      "outputs": []
    },
    {
      "cell_type": "code",
      "metadata": {
        "id": "oBXaO0OndC6l"
      },
      "source": [
        ""
      ],
      "execution_count": null,
      "outputs": []
    },
    {
      "cell_type": "code",
      "metadata": {
        "id": "NT8cX4ZMdC6m"
      },
      "source": [
        ""
      ],
      "execution_count": null,
      "outputs": []
    },
    {
      "cell_type": "code",
      "metadata": {
        "id": "8x4_2aqEdC6n"
      },
      "source": [
        ""
      ],
      "execution_count": null,
      "outputs": []
    },
    {
      "cell_type": "code",
      "metadata": {
        "scrolled": true,
        "id": "X89iz1RUdC6p"
      },
      "source": [
        ""
      ],
      "execution_count": null,
      "outputs": []
    },
    {
      "cell_type": "code",
      "metadata": {
        "id": "QKhKM1QI7tQy"
      },
      "source": [
        ""
      ],
      "execution_count": null,
      "outputs": []
    },
    {
      "cell_type": "code",
      "metadata": {
        "id": "9BKyd3Qj7tTE"
      },
      "source": [
        ""
      ],
      "execution_count": null,
      "outputs": []
    },
    {
      "cell_type": "code",
      "metadata": {
        "id": "YtfOT5fC7tVY"
      },
      "source": [
        ""
      ],
      "execution_count": null,
      "outputs": []
    },
    {
      "cell_type": "code",
      "metadata": {
        "id": "oHuNisaT7tXj"
      },
      "source": [
        ""
      ],
      "execution_count": null,
      "outputs": []
    },
    {
      "cell_type": "code",
      "metadata": {
        "id": "WjsR11AT7uSS"
      },
      "source": [
        ""
      ],
      "execution_count": null,
      "outputs": []
    },
    {
      "cell_type": "code",
      "metadata": {
        "id": "QawvAlPa7uWJ"
      },
      "source": [
        ""
      ],
      "execution_count": null,
      "outputs": []
    },
    {
      "cell_type": "code",
      "metadata": {
        "id": "h-3l-6Eb-MK9"
      },
      "source": [
        ""
      ],
      "execution_count": null,
      "outputs": []
    },
    {
      "cell_type": "code",
      "metadata": {
        "id": "esh7Fgt6-MNT"
      },
      "source": [
        ""
      ],
      "execution_count": null,
      "outputs": []
    },
    {
      "cell_type": "code",
      "metadata": {
        "id": "SY_5wM9s-MPz"
      },
      "source": [
        ""
      ],
      "execution_count": null,
      "outputs": []
    },
    {
      "cell_type": "code",
      "metadata": {
        "id": "5L4HD0xG_ozk"
      },
      "source": [
        ""
      ],
      "execution_count": null,
      "outputs": []
    },
    {
      "cell_type": "code",
      "metadata": {
        "id": "f0jxYbq0-MR0"
      },
      "source": [
        ""
      ],
      "execution_count": null,
      "outputs": []
    },
    {
      "cell_type": "code",
      "metadata": {
        "id": "UPBZQqsN-MT0"
      },
      "source": [
        ""
      ],
      "execution_count": null,
      "outputs": []
    },
    {
      "cell_type": "code",
      "metadata": {
        "id": "oPatGWqo-MVg"
      },
      "source": [
        ""
      ],
      "execution_count": null,
      "outputs": []
    },
    {
      "cell_type": "code",
      "metadata": {
        "id": "nz9tuCPAA_4l"
      },
      "source": [
        ""
      ],
      "execution_count": null,
      "outputs": []
    },
    {
      "cell_type": "code",
      "metadata": {
        "id": "W8ctw82oA_62"
      },
      "source": [
        ""
      ],
      "execution_count": null,
      "outputs": []
    },
    {
      "cell_type": "code",
      "metadata": {
        "id": "DlSeGj-HA_9E"
      },
      "source": [
        ""
      ],
      "execution_count": null,
      "outputs": []
    },
    {
      "cell_type": "code",
      "metadata": {
        "id": "cD5ceUrZHkte"
      },
      "source": [
        ""
      ],
      "execution_count": null,
      "outputs": []
    },
    {
      "cell_type": "code",
      "metadata": {
        "id": "BkEHkpPeHV4J"
      },
      "source": [
        ""
      ],
      "execution_count": null,
      "outputs": []
    },
    {
      "cell_type": "code",
      "metadata": {
        "id": "g0kEd_4aHV6t"
      },
      "source": [
        ""
      ],
      "execution_count": null,
      "outputs": []
    },
    {
      "cell_type": "code",
      "metadata": {
        "id": "cJa2MzI8HWBF"
      },
      "source": [
        ""
      ],
      "execution_count": null,
      "outputs": []
    },
    {
      "cell_type": "code",
      "metadata": {
        "id": "o9UrqeaGR9e9"
      },
      "source": [
        ""
      ],
      "execution_count": null,
      "outputs": []
    },
    {
      "cell_type": "code",
      "metadata": {
        "id": "T2OP8lwHP2_K"
      },
      "source": [
        ""
      ],
      "execution_count": null,
      "outputs": []
    },
    {
      "cell_type": "code",
      "metadata": {
        "id": "zJS0PqRUNr-8"
      },
      "source": [
        ""
      ],
      "execution_count": null,
      "outputs": []
    }
  ]
}