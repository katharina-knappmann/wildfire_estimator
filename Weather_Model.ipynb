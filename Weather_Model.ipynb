{
  "nbformat": 4,
  "nbformat_minor": 0,
  "metadata": {
    "kernelspec": {
      "name": "python3",
      "display_name": "Python 3"
    },
    "colab": {
      "name": "Weather_Model.ipynb",
      "provenance": [],
      "collapsed_sections": [],
      "include_colab_link": true
    },
    "accelerator": "GPU"
  },
  "cells": [
    {
      "cell_type": "markdown",
      "metadata": {
        "id": "view-in-github",
        "colab_type": "text"
      },
      "source": [
        "<a href=\"https://colab.research.google.com/github/knattarina/wildfire_challenge/blob/main/Weather_Model.ipynb\" target=\"_parent\"><img src=\"https://colab.research.google.com/assets/colab-badge.svg\" alt=\"Open In Colab\"/></a>"
      ]
    },
    {
      "cell_type": "code",
      "metadata": {
        "id": "NIZbDkz-dC6J"
      },
      "source": [
        "%matplotlib inline\n",
        "import matplotlib.pyplot as plt\n",
        "import tensorflow as tf\n",
        "import numpy as np\n",
        "import pandas as pd\n",
        "import os\n",
        "\n",
        "from sklearn.preprocessing import MinMaxScaler\n",
        "from google.colab import drive\n",
        "from tensorflow.keras.models import Sequential\n",
        "from tensorflow.keras.layers import Input, Dense, GRU, Embedding\n",
        "from tensorflow.keras.optimizers import RMSprop\n",
        "from tensorflow.keras.callbacks import EarlyStopping, ModelCheckpoint, TensorBoard, ReduceLROnPlateau\n",
        "from tensorflow.keras.backend import square, mean\n",
        "\n",
        "TEST_DATA_SIZE = 90"
      ],
      "execution_count": 63,
      "outputs": []
    },
    {
      "cell_type": "code",
      "metadata": {
        "colab": {
          "base_uri": "https://localhost:8080/"
        },
        "id": "iVzy9D46e0sa",
        "outputId": "259008f0-5b83-412a-8de6-fa1c3aaf176f"
      },
      "source": [
        "drive.mount('/content/drive')\r\n",
        "os.chdir('/content/drive/My Drive/Wildfire_Challenge/Data')"
      ],
      "execution_count": 64,
      "outputs": [
        {
          "output_type": "stream",
          "text": [
            "Drive already mounted at /content/drive; to attempt to forcibly remount, call drive.mount(\"/content/drive\", force_remount=True).\n"
          ],
          "name": "stdout"
        }
      ]
    },
    {
      "cell_type": "code",
      "metadata": {
        "id": "d8oqlgT1fPW4"
      },
      "source": [
        "##### IMPORT DATA #####\r\n",
        "\r\n",
        "forecasts_df = pd.read_csv('Cleansed_Forecasts.csv')\r\n",
        "df = pd.read_csv('Cleansed_Data.csv')\r\n",
        "\r\n",
        "forecasts_df['Date'] = pd.to_datetime(forecasts_df['Date'])\r\n",
        "df['Date'] = pd.to_datetime(df['Date'])"
      ],
      "execution_count": 65,
      "outputs": []
    },
    {
      "cell_type": "code",
      "metadata": {
        "id": "9LCnGUNKdC6e",
        "colab": {
          "base_uri": "https://localhost:8080/",
          "height": 444
        },
        "outputId": "0695cfe1-f820-4eb7-efd8-d736cb9e0741"
      },
      "source": [
        "df_nsw = df[df['Region'] == 'NSW'].copy()\r\n",
        "df_nsw.drop(columns = ['Date', 'Region'], inplace = True)\r\n",
        "df_nsw"
      ],
      "execution_count": 66,
      "outputs": [
        {
          "output_type": "execute_result",
          "data": {
            "text/html": [
              "<div>\n",
              "<style scoped>\n",
              "    .dataframe tbody tr th:only-of-type {\n",
              "        vertical-align: middle;\n",
              "    }\n",
              "\n",
              "    .dataframe tbody tr th {\n",
              "        vertical-align: top;\n",
              "    }\n",
              "\n",
              "    .dataframe thead th {\n",
              "        text-align: right;\n",
              "    }\n",
              "</style>\n",
              "<table border=\"1\" class=\"dataframe\">\n",
              "  <thead>\n",
              "    <tr style=\"text-align: right;\">\n",
              "      <th></th>\n",
              "      <th>Estimated_fire_area</th>\n",
              "      <th>Mean_estimated_fire_brightness</th>\n",
              "      <th>Mean_estimated_fire_radiative_power</th>\n",
              "      <th>Mean_confidence</th>\n",
              "      <th>Precipitation_Max</th>\n",
              "      <th>Precipitation_Mean</th>\n",
              "      <th>Precipitation_Min</th>\n",
              "      <th>Precipitation_Variance</th>\n",
              "      <th>RelativeHumidity_Max</th>\n",
              "      <th>RelativeHumidity_Mean</th>\n",
              "      <th>RelativeHumidity_Min</th>\n",
              "      <th>RelativeHumidity_Variance</th>\n",
              "      <th>SoilWaterContent_Max</th>\n",
              "      <th>SoilWaterContent_Mean</th>\n",
              "      <th>SoilWaterContent_Min</th>\n",
              "      <th>SoilWaterContent_Variance</th>\n",
              "      <th>SolarRadiation_Max</th>\n",
              "      <th>SolarRadiation_Mean</th>\n",
              "      <th>SolarRadiation_Min</th>\n",
              "      <th>SolarRadiation_Variance</th>\n",
              "      <th>Temperature_Max</th>\n",
              "      <th>Temperature_Mean</th>\n",
              "      <th>Temperature_Min</th>\n",
              "      <th>Temperature_Variance</th>\n",
              "      <th>WindSpeed_Max</th>\n",
              "      <th>WindSpeed_Mean</th>\n",
              "      <th>WindSpeed_Min</th>\n",
              "      <th>WindSpeed_Variance</th>\n",
              "      <th>Month</th>\n",
              "      <th>Year</th>\n",
              "    </tr>\n",
              "  </thead>\n",
              "  <tbody>\n",
              "    <tr>\n",
              "      <th>0</th>\n",
              "      <td>8.68000</td>\n",
              "      <td>312.266667</td>\n",
              "      <td>42.400000</td>\n",
              "      <td>78.666667</td>\n",
              "      <td>22.842566</td>\n",
              "      <td>2.808620</td>\n",
              "      <td>0.0</td>\n",
              "      <td>17.383363</td>\n",
              "      <td>90.332771</td>\n",
              "      <td>57.095628</td>\n",
              "      <td>31.279930</td>\n",
              "      <td>267.158378</td>\n",
              "      <td>0.444927</td>\n",
              "      <td>0.214293</td>\n",
              "      <td>0.022578</td>\n",
              "      <td>0.009965</td>\n",
              "      <td>33.214062</td>\n",
              "      <td>22.617291</td>\n",
              "      <td>7.576938</td>\n",
              "      <td>40.255460</td>\n",
              "      <td>28.945488</td>\n",
              "      <td>23.055527</td>\n",
              "      <td>12.495799</td>\n",
              "      <td>9.455474</td>\n",
              "      <td>7.364222</td>\n",
              "      <td>4.841764</td>\n",
              "      <td>1.401951</td>\n",
              "      <td>1.494301</td>\n",
              "      <td>1</td>\n",
              "      <td>2005</td>\n",
              "    </tr>\n",
              "    <tr>\n",
              "      <th>1</th>\n",
              "      <td>16.61125</td>\n",
              "      <td>322.475000</td>\n",
              "      <td>62.362500</td>\n",
              "      <td>85.500000</td>\n",
              "      <td>7.657155</td>\n",
              "      <td>0.157935</td>\n",
              "      <td>0.0</td>\n",
              "      <td>0.273471</td>\n",
              "      <td>88.623436</td>\n",
              "      <td>47.170735</td>\n",
              "      <td>24.466665</td>\n",
              "      <td>195.639724</td>\n",
              "      <td>0.442955</td>\n",
              "      <td>0.203951</td>\n",
              "      <td>0.019950</td>\n",
              "      <td>0.009483</td>\n",
              "      <td>33.554867</td>\n",
              "      <td>28.076835</td>\n",
              "      <td>14.087289</td>\n",
              "      <td>29.763055</td>\n",
              "      <td>29.510120</td>\n",
              "      <td>22.425765</td>\n",
              "      <td>9.611800</td>\n",
              "      <td>13.352380</td>\n",
              "      <td>7.091141</td>\n",
              "      <td>4.014080</td>\n",
              "      <td>1.011328</td>\n",
              "      <td>1.043316</td>\n",
              "      <td>1</td>\n",
              "      <td>2005</td>\n",
              "    </tr>\n",
              "    <tr>\n",
              "      <th>2</th>\n",
              "      <td>5.52000</td>\n",
              "      <td>325.266667</td>\n",
              "      <td>38.400000</td>\n",
              "      <td>78.333333</td>\n",
              "      <td>27.616505</td>\n",
              "      <td>0.434833</td>\n",
              "      <td>0.0</td>\n",
              "      <td>4.634465</td>\n",
              "      <td>92.850960</td>\n",
              "      <td>39.874638</td>\n",
              "      <td>21.705952</td>\n",
              "      <td>213.300558</td>\n",
              "      <td>0.431879</td>\n",
              "      <td>0.193668</td>\n",
              "      <td>0.020037</td>\n",
              "      <td>0.008750</td>\n",
              "      <td>34.075787</td>\n",
              "      <td>30.561703</td>\n",
              "      <td>12.310518</td>\n",
              "      <td>22.667707</td>\n",
              "      <td>26.982698</td>\n",
              "      <td>20.621405</td>\n",
              "      <td>9.024039</td>\n",
              "      <td>11.764178</td>\n",
              "      <td>9.905821</td>\n",
              "      <td>4.477879</td>\n",
              "      <td>0.930842</td>\n",
              "      <td>1.953685</td>\n",
              "      <td>1</td>\n",
              "      <td>2005</td>\n",
              "    </tr>\n",
              "    <tr>\n",
              "      <th>3</th>\n",
              "      <td>6.26400</td>\n",
              "      <td>313.870000</td>\n",
              "      <td>33.800000</td>\n",
              "      <td>92.200000</td>\n",
              "      <td>3.839235</td>\n",
              "      <td>0.064224</td>\n",
              "      <td>0.0</td>\n",
              "      <td>0.038927</td>\n",
              "      <td>79.103134</td>\n",
              "      <td>39.279410</td>\n",
              "      <td>16.215517</td>\n",
              "      <td>245.624576</td>\n",
              "      <td>0.418513</td>\n",
              "      <td>0.183778</td>\n",
              "      <td>0.018115</td>\n",
              "      <td>0.007799</td>\n",
              "      <td>34.019218</td>\n",
              "      <td>32.143718</td>\n",
              "      <td>16.044561</td>\n",
              "      <td>6.949267</td>\n",
              "      <td>24.752069</td>\n",
              "      <td>19.632722</td>\n",
              "      <td>8.691216</td>\n",
              "      <td>7.940373</td>\n",
              "      <td>10.446799</td>\n",
              "      <td>4.017578</td>\n",
              "      <td>1.601724</td>\n",
              "      <td>1.102751</td>\n",
              "      <td>1</td>\n",
              "      <td>2005</td>\n",
              "    </tr>\n",
              "    <tr>\n",
              "      <th>4</th>\n",
              "      <td>5.40000</td>\n",
              "      <td>337.383333</td>\n",
              "      <td>122.533333</td>\n",
              "      <td>91.000000</td>\n",
              "      <td>2.866673</td>\n",
              "      <td>0.203352</td>\n",
              "      <td>0.0</td>\n",
              "      <td>0.236269</td>\n",
              "      <td>83.001541</td>\n",
              "      <td>42.400824</td>\n",
              "      <td>14.008522</td>\n",
              "      <td>342.996833</td>\n",
              "      <td>0.413370</td>\n",
              "      <td>0.175935</td>\n",
              "      <td>0.014398</td>\n",
              "      <td>0.007482</td>\n",
              "      <td>33.265091</td>\n",
              "      <td>29.347715</td>\n",
              "      <td>15.209880</td>\n",
              "      <td>27.822830</td>\n",
              "      <td>26.472469</td>\n",
              "      <td>21.477315</td>\n",
              "      <td>10.821342</td>\n",
              "      <td>12.063971</td>\n",
              "      <td>6.671862</td>\n",
              "      <td>3.884550</td>\n",
              "      <td>1.167861</td>\n",
              "      <td>0.774612</td>\n",
              "      <td>1</td>\n",
              "      <td>2005</td>\n",
              "    </tr>\n",
              "    <tr>\n",
              "      <th>...</th>\n",
              "      <td>...</td>\n",
              "      <td>...</td>\n",
              "      <td>...</td>\n",
              "      <td>...</td>\n",
              "      <td>...</td>\n",
              "      <td>...</td>\n",
              "      <td>...</td>\n",
              "      <td>...</td>\n",
              "      <td>...</td>\n",
              "      <td>...</td>\n",
              "      <td>...</td>\n",
              "      <td>...</td>\n",
              "      <td>...</td>\n",
              "      <td>...</td>\n",
              "      <td>...</td>\n",
              "      <td>...</td>\n",
              "      <td>...</td>\n",
              "      <td>...</td>\n",
              "      <td>...</td>\n",
              "      <td>...</td>\n",
              "      <td>...</td>\n",
              "      <td>...</td>\n",
              "      <td>...</td>\n",
              "      <td>...</td>\n",
              "      <td>...</td>\n",
              "      <td>...</td>\n",
              "      <td>...</td>\n",
              "      <td>...</td>\n",
              "      <td>...</td>\n",
              "      <td>...</td>\n",
              "    </tr>\n",
              "    <tr>\n",
              "      <th>4616</th>\n",
              "      <td>3.00000</td>\n",
              "      <td>324.233333</td>\n",
              "      <td>27.966667</td>\n",
              "      <td>86.666667</td>\n",
              "      <td>66.635353</td>\n",
              "      <td>5.620920</td>\n",
              "      <td>0.0</td>\n",
              "      <td>54.916094</td>\n",
              "      <td>99.538780</td>\n",
              "      <td>68.805714</td>\n",
              "      <td>34.010914</td>\n",
              "      <td>342.426826</td>\n",
              "      <td>0.504075</td>\n",
              "      <td>0.300770</td>\n",
              "      <td>0.029187</td>\n",
              "      <td>0.012537</td>\n",
              "      <td>29.479322</td>\n",
              "      <td>17.574592</td>\n",
              "      <td>2.952551</td>\n",
              "      <td>59.706485</td>\n",
              "      <td>22.742195</td>\n",
              "      <td>14.048608</td>\n",
              "      <td>4.655551</td>\n",
              "      <td>6.921498</td>\n",
              "      <td>10.609229</td>\n",
              "      <td>4.180923</td>\n",
              "      <td>1.107591</td>\n",
              "      <td>1.977909</td>\n",
              "      <td>10</td>\n",
              "      <td>2020</td>\n",
              "    </tr>\n",
              "    <tr>\n",
              "      <th>4617</th>\n",
              "      <td>1.21000</td>\n",
              "      <td>311.100000</td>\n",
              "      <td>16.800000</td>\n",
              "      <td>78.000000</td>\n",
              "      <td>58.436600</td>\n",
              "      <td>2.124025</td>\n",
              "      <td>0.0</td>\n",
              "      <td>19.255058</td>\n",
              "      <td>97.393547</td>\n",
              "      <td>65.191496</td>\n",
              "      <td>17.911118</td>\n",
              "      <td>305.295409</td>\n",
              "      <td>0.468511</td>\n",
              "      <td>0.280703</td>\n",
              "      <td>0.007598</td>\n",
              "      <td>0.013978</td>\n",
              "      <td>29.975296</td>\n",
              "      <td>21.842008</td>\n",
              "      <td>8.514027</td>\n",
              "      <td>23.311615</td>\n",
              "      <td>22.218430</td>\n",
              "      <td>16.707067</td>\n",
              "      <td>7.288919</td>\n",
              "      <td>8.529138</td>\n",
              "      <td>5.497386</td>\n",
              "      <td>3.043550</td>\n",
              "      <td>1.036175</td>\n",
              "      <td>0.613602</td>\n",
              "      <td>10</td>\n",
              "      <td>2020</td>\n",
              "    </tr>\n",
              "    <tr>\n",
              "      <th>4618</th>\n",
              "      <td>3.00000</td>\n",
              "      <td>323.166667</td>\n",
              "      <td>20.566667</td>\n",
              "      <td>82.333333</td>\n",
              "      <td>30.506205</td>\n",
              "      <td>4.350241</td>\n",
              "      <td>0.0</td>\n",
              "      <td>33.377184</td>\n",
              "      <td>93.729408</td>\n",
              "      <td>65.642208</td>\n",
              "      <td>20.347416</td>\n",
              "      <td>363.242021</td>\n",
              "      <td>0.494503</td>\n",
              "      <td>0.280233</td>\n",
              "      <td>0.000000</td>\n",
              "      <td>0.016336</td>\n",
              "      <td>29.948700</td>\n",
              "      <td>23.287059</td>\n",
              "      <td>9.952868</td>\n",
              "      <td>12.846223</td>\n",
              "      <td>22.422768</td>\n",
              "      <td>16.916040</td>\n",
              "      <td>8.654533</td>\n",
              "      <td>7.148141</td>\n",
              "      <td>4.353423</td>\n",
              "      <td>2.551310</td>\n",
              "      <td>0.790777</td>\n",
              "      <td>0.562205</td>\n",
              "      <td>10</td>\n",
              "      <td>2020</td>\n",
              "    </tr>\n",
              "    <tr>\n",
              "      <th>4619</th>\n",
              "      <td>1.32000</td>\n",
              "      <td>315.100000</td>\n",
              "      <td>13.700000</td>\n",
              "      <td>76.000000</td>\n",
              "      <td>46.937473</td>\n",
              "      <td>6.023114</td>\n",
              "      <td>0.0</td>\n",
              "      <td>48.708134</td>\n",
              "      <td>89.295311</td>\n",
              "      <td>65.992435</td>\n",
              "      <td>23.371044</td>\n",
              "      <td>272.160953</td>\n",
              "      <td>0.484731</td>\n",
              "      <td>0.284530</td>\n",
              "      <td>0.008776</td>\n",
              "      <td>0.014347</td>\n",
              "      <td>29.318480</td>\n",
              "      <td>21.780309</td>\n",
              "      <td>8.277431</td>\n",
              "      <td>17.436028</td>\n",
              "      <td>24.310499</td>\n",
              "      <td>17.367429</td>\n",
              "      <td>10.133630</td>\n",
              "      <td>6.171237</td>\n",
              "      <td>8.527669</td>\n",
              "      <td>4.623190</td>\n",
              "      <td>1.465277</td>\n",
              "      <td>2.912816</td>\n",
              "      <td>10</td>\n",
              "      <td>2020</td>\n",
              "    </tr>\n",
              "    <tr>\n",
              "      <th>4620</th>\n",
              "      <td>20.27600</td>\n",
              "      <td>315.040000</td>\n",
              "      <td>88.460000</td>\n",
              "      <td>82.200000</td>\n",
              "      <td>60.136063</td>\n",
              "      <td>2.569159</td>\n",
              "      <td>0.0</td>\n",
              "      <td>38.524171</td>\n",
              "      <td>97.623894</td>\n",
              "      <td>68.400280</td>\n",
              "      <td>39.851624</td>\n",
              "      <td>160.672680</td>\n",
              "      <td>0.475204</td>\n",
              "      <td>0.281282</td>\n",
              "      <td>0.012940</td>\n",
              "      <td>0.013632</td>\n",
              "      <td>29.834957</td>\n",
              "      <td>21.262570</td>\n",
              "      <td>5.178627</td>\n",
              "      <td>16.523703</td>\n",
              "      <td>22.036409</td>\n",
              "      <td>16.746594</td>\n",
              "      <td>8.298871</td>\n",
              "      <td>7.320792</td>\n",
              "      <td>7.461010</td>\n",
              "      <td>3.527583</td>\n",
              "      <td>1.327121</td>\n",
              "      <td>0.745520</td>\n",
              "      <td>10</td>\n",
              "      <td>2020</td>\n",
              "    </tr>\n",
              "  </tbody>\n",
              "</table>\n",
              "<p>4621 rows × 30 columns</p>\n",
              "</div>"
            ],
            "text/plain": [
              "      Estimated_fire_area  Mean_estimated_fire_brightness  ...  Month  Year\n",
              "0                 8.68000                      312.266667  ...      1  2005\n",
              "1                16.61125                      322.475000  ...      1  2005\n",
              "2                 5.52000                      325.266667  ...      1  2005\n",
              "3                 6.26400                      313.870000  ...      1  2005\n",
              "4                 5.40000                      337.383333  ...      1  2005\n",
              "...                   ...                             ...  ...    ...   ...\n",
              "4616              3.00000                      324.233333  ...     10  2020\n",
              "4617              1.21000                      311.100000  ...     10  2020\n",
              "4618              3.00000                      323.166667  ...     10  2020\n",
              "4619              1.32000                      315.100000  ...     10  2020\n",
              "4620             20.27600                      315.040000  ...     10  2020\n",
              "\n",
              "[4621 rows x 30 columns]"
            ]
          },
          "metadata": {
            "tags": []
          },
          "execution_count": 66
        }
      ]
    },
    {
      "cell_type": "code",
      "metadata": {
        "id": "q4h9lHuHdC6f"
      },
      "source": [
        "target_names = ['Estimated_fire_area']\r\n",
        "\r\n",
        "shift_days = 30\r\n",
        "shift_steps = 1 * shift_days"
      ],
      "execution_count": 67,
      "outputs": []
    },
    {
      "cell_type": "code",
      "metadata": {
        "id": "uwshLZNjdC6g"
      },
      "source": [
        "df_targets = df_nsw[target_names].shift(-shift_steps)"
      ],
      "execution_count": 68,
      "outputs": []
    },
    {
      "cell_type": "code",
      "metadata": {
        "id": "qUytNN9mdC6g"
      },
      "source": [
        "x_data = df_nsw.values[0:-shift_steps]\r\n",
        "y_data = df_targets.values[:-shift_steps]\r\n",
        "\r\n",
        "train_split = 0.9\r\n",
        "num_data = len(x_data)\r\n",
        "num_train = int(train_split * num_data)\r\n",
        "num_test = num_data - num_train\r\n",
        "\r\n",
        "x_train = x_data[0:num_train]\r\n",
        "x_test = x_data[num_train:]\r\n",
        "\r\n",
        "y_train = y_data[0:num_train]\r\n",
        "y_test = y_data[num_train:]\r\n",
        "\r\n",
        "num_y_signals = y_data.shape[1]\r\n",
        "num_x_signals = x_data.shape[1]"
      ],
      "execution_count": 69,
      "outputs": []
    },
    {
      "cell_type": "code",
      "metadata": {
        "colab": {
          "base_uri": "https://localhost:8080/"
        },
        "id": "MIjHUgj85526",
        "outputId": "b3ddb8e9-1409-4c12-f213-c65be3f04852"
      },
      "source": [
        "x_data"
      ],
      "execution_count": 70,
      "outputs": [
        {
          "output_type": "execute_result",
          "data": {
            "text/plain": [
              "array([[8.68000000e+00, 3.12266667e+02, 4.24000000e+01, ...,\n",
              "        1.49430089e+00, 1.00000000e+00, 2.00500000e+03],\n",
              "       [1.66112500e+01, 3.22475000e+02, 6.23625000e+01, ...,\n",
              "        1.04331562e+00, 1.00000000e+00, 2.00500000e+03],\n",
              "       [5.52000000e+00, 3.25266667e+02, 3.84000000e+01, ...,\n",
              "        1.95368541e+00, 1.00000000e+00, 2.00500000e+03],\n",
              "       ...,\n",
              "       [1.37309091e+01, 3.10127273e+02, 3.66363636e+01, ...,\n",
              "        1.00012315e+00, 9.00000000e+00, 2.02000000e+03],\n",
              "       [2.00000000e+00, 3.22250000e+02, 4.69000000e+01, ...,\n",
              "        5.16490969e-01, 9.00000000e+00, 2.02000000e+03],\n",
              "       [4.30666667e+00, 3.11000000e+02, 2.85666667e+01, ...,\n",
              "        7.14898158e-01, 9.00000000e+00, 2.02000000e+03]])"
            ]
          },
          "metadata": {
            "tags": []
          },
          "execution_count": 70
        }
      ]
    },
    {
      "cell_type": "code",
      "metadata": {
        "id": "XKcijI3fdC6i"
      },
      "source": [
        "x_scaler = MinMaxScaler()\r\n",
        "x_train_scaled = x_scaler.fit_transform(x_train)\r\n",
        "x_test_scaled = x_scaler.transform(x_test)\r\n",
        "\r\n",
        "y_scaler = MinMaxScaler()\r\n",
        "y_train_scaled = y_scaler.fit_transform(y_train)\r\n",
        "y_test_scaled = y_scaler.transform(y_test)"
      ],
      "execution_count": 71,
      "outputs": []
    },
    {
      "cell_type": "code",
      "metadata": {
        "id": "s8nxtr8udC6j",
        "colab": {
          "base_uri": "https://localhost:8080/"
        },
        "outputId": "c64e5165-c01c-4d60-c2e4-9400d55703c9"
      },
      "source": [
        "print(x_train_scaled.shape)\r\n",
        "print(y_train_scaled.shape)"
      ],
      "execution_count": 72,
      "outputs": [
        {
          "output_type": "stream",
          "text": [
            "(4131, 30)\n",
            "(4131, 1)\n"
          ],
          "name": "stdout"
        }
      ]
    },
    {
      "cell_type": "code",
      "metadata": {
        "id": "oBXaO0OndC6l"
      },
      "source": [
        "def batch_generator(batch_size, sequence_length):\r\n",
        "    \"\"\"\r\n",
        "    Generator function for creating random batches of training-data.\r\n",
        "    \"\"\"\r\n",
        "\r\n",
        "    # Infinite loop.\r\n",
        "    while True:\r\n",
        "        # Allocate a new array for the batch of input-signals.\r\n",
        "        x_shape = (batch_size, sequence_length, num_x_signals)\r\n",
        "        x_batch = np.zeros(shape=x_shape, dtype=np.float16)\r\n",
        "\r\n",
        "        # Allocate a new array for the batch of output-signals.\r\n",
        "        y_shape = (batch_size, sequence_length, num_y_signals)\r\n",
        "        y_batch = np.zeros(shape=y_shape, dtype=np.float16)\r\n",
        "\r\n",
        "        # Fill the batch with random sequences of data.\r\n",
        "        for i in range(batch_size):\r\n",
        "            # Get a random start-index.\r\n",
        "            # This points somewhere into the training-data.\r\n",
        "            idx = np.random.randint(num_train - sequence_length)\r\n",
        "            \r\n",
        "            # Copy the sequences of data starting at this index.\r\n",
        "            x_batch[i] = x_train_scaled[idx:idx+sequence_length]\r\n",
        "            y_batch[i] = y_train_scaled[idx:idx+sequence_length]\r\n",
        "        \r\n",
        "        yield (x_batch, y_batch)"
      ],
      "execution_count": 73,
      "outputs": []
    },
    {
      "cell_type": "code",
      "metadata": {
        "id": "NT8cX4ZMdC6m"
      },
      "source": [
        "batch_size = 256\r\n",
        "sequence_length = 7 * 8\r\n",
        "\r\n",
        "generator = batch_generator(batch_size=batch_size, sequence_length=sequence_length)"
      ],
      "execution_count": 74,
      "outputs": []
    },
    {
      "cell_type": "code",
      "metadata": {
        "id": "8x4_2aqEdC6n",
        "colab": {
          "base_uri": "https://localhost:8080/"
        },
        "outputId": "e3f45144-0612-4ab8-e706-e3d16436db51"
      },
      "source": [
        "x_batch, y_batch = next(generator)\r\n",
        "\r\n",
        "print(x_batch.shape)\r\n",
        "print(y_batch.shape)"
      ],
      "execution_count": 75,
      "outputs": [
        {
          "output_type": "stream",
          "text": [
            "(256, 56, 30)\n",
            "(256, 56, 1)\n"
          ],
          "name": "stdout"
        }
      ]
    },
    {
      "cell_type": "code",
      "metadata": {
        "scrolled": true,
        "id": "X89iz1RUdC6p",
        "colab": {
          "base_uri": "https://localhost:8080/",
          "height": 285
        },
        "outputId": "4078275a-89fc-46f6-f76d-c2d5a3e89084"
      },
      "source": [
        "batch = 0   # First sequence in the batch.\r\n",
        "signal = 0  # First signal from the 20 input-signals.\r\n",
        "seq = x_batch[batch, :, signal]\r\n",
        "plt.plot(seq)"
      ],
      "execution_count": 76,
      "outputs": [
        {
          "output_type": "execute_result",
          "data": {
            "text/plain": [
              "[<matplotlib.lines.Line2D at 0x7f5a48e22e10>]"
            ]
          },
          "metadata": {
            "tags": []
          },
          "execution_count": 76
        },
        {
          "output_type": "display_data",
          "data": {
            "image/png": "[encoded data removed]",
            "text/plain": [
              "<Figure size 432x288 with 1 Axes>"
            ]
          },
          "metadata": {
            "tags": [],
            "needs_background": "light"
          }
        }
      ]
    },
    {
      "cell_type": "code",
      "metadata": {
        "colab": {
          "base_uri": "https://localhost:8080/",
          "height": 285
        },
        "id": "QKhKM1QI7tQy",
        "outputId": "1c251afb-46da-4fa6-9a24-d872e58b31eb"
      },
      "source": [
        "seq = y_batch[batch, :, signal]\r\n",
        "plt.plot(seq)"
      ],
      "execution_count": 77,
      "outputs": [
        {
          "output_type": "execute_result",
          "data": {
            "text/plain": [
              "[<matplotlib.lines.Line2D at 0x7f5a9602c278>]"
            ]
          },
          "metadata": {
            "tags": []
          },
          "execution_count": 77
        },
        {
          "output_type": "display_data",
          "data": {
            "image/png": "[encoded data removed]",
            "text/plain": [
              "<Figure size 432x288 with 1 Axes>"
            ]
          },
          "metadata": {
            "tags": [],
            "needs_background": "light"
          }
        }
      ]
    },
    {
      "cell_type": "code",
      "metadata": {
        "id": "9BKyd3Qj7tTE"
      },
      "source": [
        "validation_data = (np.expand_dims(x_test_scaled, axis=0), np.expand_dims(y_test_scaled, axis=0))"
      ],
      "execution_count": 78,
      "outputs": []
    },
    {
      "cell_type": "code",
      "metadata": {
        "id": "YtfOT5fC7tVY"
      },
      "source": [
        "model = Sequential()\r\n",
        "model.add(GRU(units=512, return_sequences=True, input_shape=(None, num_x_signals,)))\r\n",
        "model.add(Dense(num_y_signals, activation='sigmoid'))"
      ],
      "execution_count": 79,
      "outputs": []
    },
    {
      "cell_type": "code",
      "metadata": {
        "id": "oHuNisaT7tXj"
      },
      "source": [
        "if False:\r\n",
        "    from tensorflow.python.keras.initializers import RandomUniform\r\n",
        "\r\n",
        "    # Maybe use lower init-ranges.\r\n",
        "    init = RandomUniform(minval=-0.05, maxval=0.05)\r\n",
        "\r\n",
        "    model.add(Dense(num_y_signals, activation='linear', kernel_initializer=init))"
      ],
      "execution_count": 80,
      "outputs": []
    },
    {
      "cell_type": "code",
      "metadata": {
        "id": "WjsR11AT7uSS"
      },
      "source": [
        "warmup_steps = 50\r\n",
        "\r\n",
        "def loss_mse_warmup(y_true, y_pred):\r\n",
        "    \"\"\" Calculate the Mean Squared Error between y_true and y_pred, but ignore the beginning \"warmup\" part of the sequences.\r\n",
        "    y_true is the desired output.\r\n",
        "    y_pred is the model's output.\r\n",
        "    \"\"\"\r\n",
        "\r\n",
        "    # The shape of both input tensors are:\r\n",
        "    # [batch_size, sequence_length, num_y_signals].\r\n",
        "\r\n",
        "    # Ignore the \"warmup\" parts of the sequences\r\n",
        "    # by taking slices of the tensors.\r\n",
        "    y_true_slice = y_true[:, warmup_steps:, :]\r\n",
        "    y_pred_slice = y_pred[:, warmup_steps:, :]\r\n",
        "\r\n",
        "    # These sliced tensors both have this shape:\r\n",
        "    # [batch_size, sequence_length - warmup_steps, num_y_signals]\r\n",
        "\r\n",
        "    # Calculat the Mean Squared Error and use it as loss.\r\n",
        "    mse = mean(square(y_true_slice - y_pred_slice))\r\n",
        "    \r\n",
        "    return mse"
      ],
      "execution_count": 81,
      "outputs": []
    },
    {
      "cell_type": "code",
      "metadata": {
        "id": "QawvAlPa7uWJ"
      },
      "source": [
        "optimizer = RMSprop(lr=1e-3)"
      ],
      "execution_count": 82,
      "outputs": []
    },
    {
      "cell_type": "code",
      "metadata": {
        "id": "h-3l-6Eb-MK9"
      },
      "source": [
        "model.compile(loss=loss_mse_warmup, optimizer=optimizer)"
      ],
      "execution_count": 83,
      "outputs": []
    },
    {
      "cell_type": "code",
      "metadata": {
        "colab": {
          "base_uri": "https://localhost:8080/"
        },
        "id": "esh7Fgt6-MNT",
        "outputId": "3de9e1bf-bcb5-4c51-86ab-f3417501819f"
      },
      "source": [
        "model.summary()"
      ],
      "execution_count": 84,
      "outputs": [
        {
          "output_type": "stream",
          "text": [
            "Model: \"sequential_1\"\n",
            "_________________________________________________________________\n",
            "Layer (type)                 Output Shape              Param #   \n",
            "=================================================================\n",
            "gru_1 (GRU)                  (None, None, 512)         835584    \n",
            "_________________________________________________________________\n",
            "dense_1 (Dense)              (None, None, 1)           513       \n",
            "=================================================================\n",
            "Total params: 836,097\n",
            "Trainable params: 836,097\n",
            "Non-trainable params: 0\n",
            "_________________________________________________________________\n"
          ],
          "name": "stdout"
        }
      ]
    },
    {
      "cell_type": "code",
      "metadata": {
        "id": "SY_5wM9s-MPz"
      },
      "source": [
        "path_checkpoint = 'checkpoint.keras'\r\n",
        "callback_checkpoint = ModelCheckpoint(filepath=path_checkpoint, monitor='val_loss', verbose=1, save_weights_only=True, save_best_only=True)\r\n",
        "callback_early_stopping = EarlyStopping(monitor='val_loss', patience=5, verbose=1)\r\n",
        "callback_tensorboard = TensorBoard(log_dir='./logs/', histogram_freq=0, write_graph=False)\r\n",
        "callback_reduce_lr = ReduceLROnPlateau(monitor='val_loss', factor=0.1, min_lr=1e-4, patience=0, verbose=1)\r\n",
        "\r\n",
        "callbacks = [callback_early_stopping, callback_checkpoint, callback_tensorboard, callback_reduce_lr]"
      ],
      "execution_count": 85,
      "outputs": []
    },
    {
      "cell_type": "code",
      "metadata": {
        "colab": {
          "base_uri": "https://localhost:8080/"
        },
        "id": "5L4HD0xG_ozk",
        "outputId": "58fb8091-0fd0-4939-ab1d-d862f5d19b5d"
      },
      "source": [
        "%%time\r\n",
        "model.fit(x=generator,\r\n",
        "          epochs=20,\r\n",
        "          steps_per_epoch=200,\r\n",
        "          validation_data=validation_data,\r\n",
        "          callbacks=callbacks)"
      ],
      "execution_count": 95,
      "outputs": [
        {
          "output_type": "stream",
          "text": [
            "Epoch 1/20\n",
            "200/200 [==============================] - 6s 32ms/step - loss: 0.0010 - val_loss: 0.0896\n",
            "\n",
            "Epoch 00001: val_loss did not improve from 0.08879\n",
            "Epoch 2/20\n",
            "200/200 [==============================] - 6s 31ms/step - loss: 5.9737e-04 - val_loss: 0.0910\n",
            "\n",
            "Epoch 00002: val_loss did not improve from 0.08879\n",
            "Epoch 3/20\n",
            "200/200 [==============================] - 6s 32ms/step - loss: 5.2316e-04 - val_loss: 0.0912\n",
            "\n",
            "Epoch 00003: val_loss did not improve from 0.08879\n",
            "Epoch 4/20\n",
            "200/200 [==============================] - 6s 32ms/step - loss: 5.2292e-04 - val_loss: 0.0913\n",
            "\n",
            "Epoch 00004: val_loss did not improve from 0.08879\n",
            "Epoch 5/20\n",
            "200/200 [==============================] - 7s 33ms/step - loss: 5.1385e-04 - val_loss: 0.0912\n",
            "\n",
            "Epoch 00005: val_loss did not improve from 0.08879\n",
            "Epoch 6/20\n",
            "200/200 [==============================] - 7s 33ms/step - loss: 5.1075e-04 - val_loss: 0.0912\n",
            "\n",
            "Epoch 00006: val_loss did not improve from 0.08879\n",
            "Epoch 00006: early stopping\n",
            "CPU times: user 34.3 s, sys: 7.47 s, total: 41.7 s\n",
            "Wall time: 38.8 s\n"
          ],
          "name": "stdout"
        },
        {
          "output_type": "execute_result",
          "data": {
            "text/plain": [
              "<tensorflow.python.keras.callbacks.History at 0x7f5a48d9b908>"
            ]
          },
          "metadata": {
            "tags": []
          },
          "execution_count": 95
        }
      ]
    },
    {
      "cell_type": "code",
      "metadata": {
        "id": "f0jxYbq0-MR0"
      },
      "source": [
        "try:\r\n",
        "    model.load_weights(path_checkpoint)\r\n",
        "except Exception as error:\r\n",
        "    print(\"Error trying to load checkpoint.\")\r\n",
        "    print(error)"
      ],
      "execution_count": 87,
      "outputs": []
    },
    {
      "cell_type": "code",
      "metadata": {
        "colab": {
          "base_uri": "https://localhost:8080/"
        },
        "id": "UPBZQqsN-MT0",
        "outputId": "3090ec99-1fb9-4971-a352-00ead642e10b"
      },
      "source": [
        "result = model.evaluate(x=np.expand_dims(x_test_scaled, axis=0), y=np.expand_dims(y_test_scaled, axis=0))"
      ],
      "execution_count": 88,
      "outputs": [
        {
          "output_type": "stream",
          "text": [
            "1/1 [==============================] - 0s 24ms/step - loss: 0.0888\n"
          ],
          "name": "stdout"
        }
      ]
    },
    {
      "cell_type": "code",
      "metadata": {
        "colab": {
          "base_uri": "https://localhost:8080/"
        },
        "id": "oPatGWqo-MVg",
        "outputId": "31b666ee-63d9-4f33-863e-ba6b2cea15e6"
      },
      "source": [
        "print(\"loss (test-set):\", result)"
      ],
      "execution_count": 89,
      "outputs": [
        {
          "output_type": "stream",
          "text": [
            "loss (test-set): 0.08878569304943085\n"
          ],
          "name": "stdout"
        }
      ]
    },
    {
      "cell_type": "code",
      "metadata": {
        "id": "nz9tuCPAA_4l"
      },
      "source": [
        "# If you have several metrics you can use this instead.\r\n",
        "if False:\r\n",
        "    for res, metric in zip(result, model.metrics_names):\r\n",
        "        print(\"{0}: {1:.3e}\".format(metric, res))"
      ],
      "execution_count": 90,
      "outputs": []
    },
    {
      "cell_type": "code",
      "metadata": {
        "id": "W8ctw82oA_62"
      },
      "source": [
        "def plot_comparison(start_idx, length=100, train=True):\r\n",
        "    \"\"\"\r\n",
        "    Plot the predicted and true output-signals.\r\n",
        "    \r\n",
        "    :param start_idx: Start-index for the time-series.\r\n",
        "    :param length: Sequence-length to process and plot.\r\n",
        "    :param train: Boolean whether to use training- or test-set.\r\n",
        "    \"\"\"\r\n",
        "    \r\n",
        "    if train:\r\n",
        "        # Use training-data.\r\n",
        "        x = x_train_scaled\r\n",
        "        y_true = y_train\r\n",
        "    else:\r\n",
        "        # Use test-data.\r\n",
        "        x = x_test_scaled\r\n",
        "        y_true = y_test\r\n",
        "    \r\n",
        "    # End-index for the sequences.\r\n",
        "    end_idx = start_idx + length\r\n",
        "    \r\n",
        "    # Select the sequences from the given start-index and\r\n",
        "    # of the given length.\r\n",
        "    x = x[start_idx:end_idx]\r\n",
        "    y_true = y_true[start_idx:end_idx]\r\n",
        "    \r\n",
        "    # Input-signals for the model.\r\n",
        "    x = np.expand_dims(x, axis=0)\r\n",
        "\r\n",
        "    # Use the model to predict the output-signals.\r\n",
        "    y_pred = model.predict(x)\r\n",
        "    \r\n",
        "    # The output of the model is between 0 and 1.\r\n",
        "    # Do an inverse map to get it back to the scale\r\n",
        "    # of the original data-set.\r\n",
        "    y_pred_rescaled = y_scaler.inverse_transform(y_pred[0])\r\n",
        "    \r\n",
        "    # For each output-signal.\r\n",
        "    for signal in range(len(target_names)):\r\n",
        "        # Get the output-signal predicted by the model.\r\n",
        "        signal_pred = y_pred_rescaled[:, signal]\r\n",
        "        \r\n",
        "        # Get the true output-signal from the data-set.\r\n",
        "        signal_true = y_true[:, signal]\r\n",
        "\r\n",
        "        # Make the plotting-canvas bigger.\r\n",
        "        plt.figure(figsize=(15,5))\r\n",
        "        \r\n",
        "        # Plot and compare the two signals.\r\n",
        "        plt.plot(signal_true, label='true')\r\n",
        "        plt.plot(signal_pred, label='pred')\r\n",
        "        \r\n",
        "        # Plot grey box for warmup-period.\r\n",
        "        p = plt.axvspan(0, warmup_steps, facecolor='black', alpha=0.15)\r\n",
        "        \r\n",
        "        # Plot labels etc.\r\n",
        "        plt.ylabel(target_names[signal])\r\n",
        "        plt.legend()\r\n",
        "        plt.show()"
      ],
      "execution_count": 91,
      "outputs": []
    },
    {
      "cell_type": "code",
      "metadata": {
        "colab": {
          "base_uri": "https://localhost:8080/",
          "height": 320
        },
        "id": "DlSeGj-HA_9E",
        "outputId": "0746feb3-f469-409a-970b-662c7a9ad9e2"
      },
      "source": [
        "plot_comparison(start_idx=4000, length=500, train=True)"
      ],
      "execution_count": 92,
      "outputs": [
        {
          "output_type": "display_data",
          "data": {
            "image/png": "[encoded data removed]",
            "text/plain": [
              "<Figure size 1080x360 with 1 Axes>"
            ]
          },
          "metadata": {
            "tags": [],
            "needs_background": "light"
          }
        }
      ]
    },
    {
      "cell_type": "code",
      "metadata": {
        "colab": {
          "base_uri": "https://localhost:8080/",
          "height": 320
        },
        "id": "cD5ceUrZHkte",
        "outputId": "38631471-d9e8-47e8-d68c-260cbf58318c"
      },
      "source": [
        "plot_comparison(start_idx=4000, length=100, train=True)"
      ],
      "execution_count": 93,
      "outputs": [
        {
          "output_type": "display_data",
          "data": {
            "image/png": "[encoded data removed]",
            "text/plain": [
              "<Figure size 1080x360 with 1 Axes>"
            ]
          },
          "metadata": {
            "tags": [],
            "needs_background": "light"
          }
        }
      ]
    },
    {
      "cell_type": "code",
      "metadata": {
        "colab": {
          "base_uri": "https://localhost:8080/",
          "height": 320
        },
        "id": "BkEHkpPeHV4J",
        "outputId": "0923b70a-c53a-46ea-b428-d09cc0b81d94"
      },
      "source": [
        "plot_comparison(start_idx=200, length=50, train=False)"
      ],
      "execution_count": 94,
      "outputs": [
        {
          "output_type": "display_data",
          "data": {
            "image/png": "[encoded data removed]",
            "text/plain": [
              "<Figure size 1080x360 with 1 Axes>"
            ]
          },
          "metadata": {
            "tags": [],
            "needs_background": "light"
          }
        }
      ]
    },
    {
      "cell_type": "code",
      "metadata": {
        "id": "g0kEd_4aHV6t"
      },
      "source": [
        ""
      ],
      "execution_count": 94,
      "outputs": []
    },
    {
      "cell_type": "code",
      "metadata": {
        "id": "cJa2MzI8HWBF"
      },
      "source": [
        ""
      ],
      "execution_count": 94,
      "outputs": []
    }
  ]
}